{
  "nbformat": 4,
  "nbformat_minor": 0,
  "metadata": {
    "colab": {
      "provenance": []
    },
    "kernelspec": {
      "name": "python3",
      "display_name": "Python 3"
    },
    "language_info": {
      "name": "python"
    }
  },
  "cells": [
    {
      "cell_type": "code",
      "execution_count": 2,
      "metadata": {
        "colab": {
          "base_uri": "https://localhost:8080/"
        },
        "id": "kx5Y496vebgT",
        "outputId": "810cc4d4-a7f3-4518-ef72-30684445dda9"
      },
      "outputs": [
        {
          "output_type": "stream",
          "name": "stdout",
          "text": [
            "Looking in indexes: https://pypi.org/simple, https://us-python.pkg.dev/colab-wheels/public/simple/\n",
            "Collecting pycbc\n",
            "  Downloading PyCBC-2.2.0-cp39-cp39-manylinux_2_17_x86_64.manylinux2014_x86_64.whl (7.5 MB)\n",
            "\u001b[2K     \u001b[90m━━━━━━━━━━━━━━━━━━━━━━━━━━━━━━━━━━━━━━━━\u001b[0m \u001b[32m7.5/7.5 MB\u001b[0m \u001b[31m123.4 MB/s\u001b[0m eta \u001b[36m0:00:00\u001b[0m\n",
            "\u001b[?25hCollecting ligo-common\n",
            "  Downloading ligo_common-1.0.3-py2.py3-none-any.whl (2.0 kB)\n",
            "Requirement already satisfied: tqdm in /usr/local/lib/python3.9/dist-packages (from pycbc) (4.65.0)\n",
            "Requirement already satisfied: matplotlib>=1.5.1 in /usr/local/lib/python3.9/dist-packages (from pycbc) (3.5.3)\n",
            "Collecting pegasus-wms.api>=5.0.3\n",
            "  Downloading pegasus-wms.api-5.0.5.tar.gz (44 kB)\n",
            "\u001b[2K     \u001b[90m━━━━━━━━━━━━━━━━━━━━━━━━━━━━━━━━━━━━━━━\u001b[0m \u001b[32m44.4/44.4 KB\u001b[0m \u001b[31m113.3 MB/s\u001b[0m eta \u001b[36m0:00:00\u001b[0m\n",
            "\u001b[?25h  Preparing metadata (setup.py) ... \u001b[?25l\u001b[?25hdone\n",
            "Requirement already satisfied: numpy>=1.16.0 in /usr/local/lib/python3.9/dist-packages (from pycbc) (1.22.4)\n",
            "Requirement already satisfied: jinja2 in /usr/local/lib/python3.9/dist-packages (from pycbc) (3.1.2)\n",
            "Collecting lscsoft-glue>=1.59.3\n",
            "  Downloading lscsoft-glue-3.0.1.tar.gz (1.4 MB)\n",
            "\u001b[2K     \u001b[90m━━━━━━━━━━━━━━━━━━━━━━━━━━━━━━━━━━━━━━━━\u001b[0m \u001b[32m1.4/1.4 MB\u001b[0m \u001b[31m262.1 MB/s\u001b[0m eta \u001b[36m0:00:00\u001b[0m\n",
            "\u001b[?25h  Installing build dependencies ... \u001b[?25l\u001b[?25hdone\n",
            "  Getting requirements to build wheel ... \u001b[?25l\u001b[?25hdone\n",
            "  Preparing metadata (pyproject.toml) ... \u001b[?25l\u001b[?25hdone\n",
            "Collecting gwdatafind\n",
            "  Downloading gwdatafind-1.1.3-py3-none-any.whl (45 kB)\n",
            "\u001b[2K     \u001b[90m━━━━━━━━━━━━━━━━━━━━━━━━━━━━━━━━━━━━━━━\u001b[0m \u001b[32m45.4/45.4 KB\u001b[0m \u001b[31m117.8 MB/s\u001b[0m eta \u001b[36m0:00:00\u001b[0m\n",
            "\u001b[?25hRequirement already satisfied: scipy>=0.16.0 in /usr/local/lib/python3.9/dist-packages (from pycbc) (1.10.1)\n",
            "Requirement already satisfied: beautifulsoup4>=4.6.0 in /usr/local/lib/python3.9/dist-packages (from pycbc) (4.6.3)\n",
            "Collecting python-ligo-lw>=1.7.0\n",
            "  Downloading python-ligo-lw-1.8.3.tar.gz (2.3 MB)\n",
            "\u001b[2K     \u001b[90m━━━━━━━━━━━━━━━━━━━━━━━━━━━━━━━━━━━━━━━━\u001b[0m \u001b[32m2.3/2.3 MB\u001b[0m \u001b[31m257.6 MB/s\u001b[0m eta \u001b[36m0:00:00\u001b[0m\n",
            "\u001b[?25h  Preparing metadata (setup.py) ... \u001b[?25l\u001b[?25hdone\n",
            "Collecting lalsuite!=7.2\n",
            "  Downloading lalsuite-7.13-cp39-cp39-manylinux_2_28_x86_64.whl (50.3 MB)\n",
            "\u001b[2K     \u001b[90m━━━━━━━━━━━━━━━━━━━━━━━━━━━━━━━━━━━━━━━\u001b[0m \u001b[32m50.3/50.3 MB\u001b[0m \u001b[31m166.2 MB/s\u001b[0m eta \u001b[36m0:00:00\u001b[0m\n",
            "\u001b[?25hCollecting mpld3>=0.3\n",
            "  Downloading mpld3-0.5.9-py3-none-any.whl (201 kB)\n",
            "\u001b[2K     \u001b[90m━━━━━━━━━━━━━━━━━━━━━━━━━━━━━━━━━━━━━\u001b[0m \u001b[32m201.2/201.2 KB\u001b[0m \u001b[31m164.9 MB/s\u001b[0m eta \u001b[36m0:00:00\u001b[0m\n",
            "\u001b[?25hRequirement already satisfied: pillow in /usr/local/lib/python3.9/dist-packages (from pycbc) (8.4.0)\n",
            "Requirement already satisfied: cython>=0.29 in /usr/local/lib/python3.9/dist-packages (from pycbc) (0.29.33)\n",
            "Collecting ligo-segments\n",
            "  Downloading ligo-segments-1.4.0.tar.gz (51 kB)\n",
            "\u001b[2K     \u001b[90m━━━━━━━━━━━━━━━━━━━━━━━━━━━━━━━━━━━━━━━\u001b[0m \u001b[32m51.0/51.0 KB\u001b[0m \u001b[31m128.4 MB/s\u001b[0m eta \u001b[36m0:00:00\u001b[0m\n",
            "\u001b[?25h  Preparing metadata (setup.py) ... \u001b[?25l\u001b[?25hdone\n",
            "Requirement already satisfied: h5py!=3.7.0,>=3.0.0 in /usr/local/lib/python3.9/dist-packages (from pycbc) (3.1.0)\n",
            "Requirement already satisfied: astropy!=4.0.5,!=4.2.1,>=2.0.3 in /usr/local/lib/python3.9/dist-packages (from pycbc) (4.3.1)\n",
            "Collecting Mako>=1.0.1\n",
            "  Downloading Mako-1.2.4-py3-none-any.whl (78 kB)\n",
            "\u001b[2K     \u001b[90m━━━━━━━━━━━━━━━━━━━━━━━━━━━━━━━━━━━━━━━\u001b[0m \u001b[32m78.7/78.7 KB\u001b[0m \u001b[31m192.3 MB/s\u001b[0m eta \u001b[36m0:00:00\u001b[0m\n",
            "\u001b[?25hRequirement already satisfied: setuptools in /usr/local/lib/python3.9/dist-packages (from pycbc) (57.4.0)\n",
            "Requirement already satisfied: pyerfa>=1.7.3 in /usr/local/lib/python3.9/dist-packages (from astropy!=4.0.5,!=4.2.1,>=2.0.3->pycbc) (2.0.0.1)\n",
            "Requirement already satisfied: python-dateutil in /usr/local/lib/python3.9/dist-packages (from lalsuite!=7.2->pycbc) (2.8.2)\n",
            "Requirement already satisfied: six in /usr/local/lib/python3.9/dist-packages (from lscsoft-glue>=1.59.3->pycbc) (1.15.0)\n",
            "Collecting pyRXP\n",
            "  Downloading pyRXP-3.0.1-cp39-cp39-manylinux_2_12_x86_64.manylinux2010_x86_64.whl (297 kB)\n",
            "\u001b[2K     \u001b[90m━━━━━━━━━━━━━━━━━━━━━━━━━━━━━━━━━━━━━\u001b[0m \u001b[32m297.9/297.9 KB\u001b[0m \u001b[31m156.1 MB/s\u001b[0m eta \u001b[36m0:00:00\u001b[0m\n",
            "\u001b[?25hCollecting pyOpenSSL\n",
            "  Downloading pyOpenSSL-23.0.0-py3-none-any.whl (57 kB)\n",
            "\u001b[2K     \u001b[90m━━━━━━━━━━━━━━━━━━━━━━━━━━━━━━━━━━━━━━━\u001b[0m \u001b[32m57.3/57.3 KB\u001b[0m \u001b[31m126.1 MB/s\u001b[0m eta \u001b[36m0:00:00\u001b[0m\n",
            "\u001b[?25hRequirement already satisfied: MarkupSafe>=0.9.2 in /usr/local/lib/python3.9/dist-packages (from Mako>=1.0.1->pycbc) (2.1.2)\n",
            "Requirement already satisfied: cycler>=0.10 in /usr/local/lib/python3.9/dist-packages (from matplotlib>=1.5.1->pycbc) (0.11.0)\n",
            "Requirement already satisfied: packaging>=20.0 in /usr/local/lib/python3.9/dist-packages (from matplotlib>=1.5.1->pycbc) (23.0)\n",
            "Requirement already satisfied: kiwisolver>=1.0.1 in /usr/local/lib/python3.9/dist-packages (from matplotlib>=1.5.1->pycbc) (1.4.4)\n",
            "Requirement already satisfied: fonttools>=4.22.0 in /usr/local/lib/python3.9/dist-packages (from matplotlib>=1.5.1->pycbc) (4.39.0)\n",
            "Requirement already satisfied: pyparsing>=2.2.1 in /usr/local/lib/python3.9/dist-packages (from matplotlib>=1.5.1->pycbc) (3.0.9)\n",
            "Collecting pegasus-wms.common\n",
            "  Downloading pegasus-wms.common-5.0.5.tar.gz (41 kB)\n",
            "\u001b[2K     \u001b[90m━━━━━━━━━━━━━━━━━━━━━━━━━━━━━━━━━━━━━━━━\u001b[0m \u001b[32m41.2/41.2 KB\u001b[0m \u001b[31m87.5 MB/s\u001b[0m eta \u001b[36m0:00:00\u001b[0m\n",
            "\u001b[?25h  Preparing metadata (setup.py) ... \u001b[?25l\u001b[?25hdone\n",
            "Requirement already satisfied: pyyaml in /usr/local/lib/python3.9/dist-packages (from python-ligo-lw>=1.7.0->pycbc) (6.0)\n",
            "Collecting igwn-auth-utils>=0.3.1\n",
            "  Downloading igwn_auth_utils-0.4.0-py3-none-any.whl (22 kB)\n",
            "Requirement already satisfied: requests>=2.14 in /usr/local/lib/python3.9/dist-packages (from igwn-auth-utils>=0.3.1->gwdatafind->pycbc) (2.25.1)\n",
            "Collecting scitokens>=1.7.0\n",
            "  Downloading scitokens-1.7.4-py3-none-any.whl (27 kB)\n",
            "Collecting cryptography>=2.3\n",
            "  Downloading cryptography-39.0.2-cp36-abi3-manylinux_2_28_x86_64.whl (4.2 MB)\n",
            "\u001b[2K     \u001b[90m━━━━━━━━━━━━━━━━━━━━━━━━━━━━━━━━━━━━━━━━\u001b[0m \u001b[32m4.2/4.2 MB\u001b[0m \u001b[31m172.9 MB/s\u001b[0m eta \u001b[36m0:00:00\u001b[0m\n",
            "\u001b[?25hCollecting safe-netrc>=1.0.0\n",
            "  Downloading safe_netrc-1.0.1-py3-none-any.whl (10 kB)\n",
            "Requirement already satisfied: cffi>=1.12 in /usr/local/lib/python3.9/dist-packages (from cryptography>=2.3->igwn-auth-utils>=0.3.1->gwdatafind->pycbc) (1.15.1)\n",
            "Requirement already satisfied: chardet<5,>=3.0.2 in /usr/local/lib/python3.9/dist-packages (from requests>=2.14->igwn-auth-utils>=0.3.1->gwdatafind->pycbc) (4.0.0)\n",
            "Requirement already satisfied: urllib3<1.27,>=1.21.1 in /usr/local/lib/python3.9/dist-packages (from requests>=2.14->igwn-auth-utils>=0.3.1->gwdatafind->pycbc) (1.26.14)\n",
            "Requirement already satisfied: certifi>=2017.4.17 in /usr/local/lib/python3.9/dist-packages (from requests>=2.14->igwn-auth-utils>=0.3.1->gwdatafind->pycbc) (2022.12.7)\n",
            "Requirement already satisfied: idna<3,>=2.5 in /usr/local/lib/python3.9/dist-packages (from requests>=2.14->igwn-auth-utils>=0.3.1->gwdatafind->pycbc) (2.10)\n",
            "Collecting PyJWT>=1.6.1\n",
            "  Downloading PyJWT-2.6.0-py3-none-any.whl (20 kB)\n",
            "Requirement already satisfied: pycparser in /usr/local/lib/python3.9/dist-packages (from cffi>=1.12->cryptography>=2.3->igwn-auth-utils>=0.3.1->gwdatafind->pycbc) (2.21)\n",
            "Building wheels for collected packages: lscsoft-glue, pegasus-wms.api, python-ligo-lw, ligo-segments, pegasus-wms.common\n",
            "  Building wheel for lscsoft-glue (pyproject.toml) ... \u001b[?25l\u001b[?25hdone\n",
            "  Created wheel for lscsoft-glue: filename=lscsoft_glue-3.0.1-cp39-cp39-linux_x86_64.whl size=262710 sha256=8f6f805894ece1be5b016f5b314ff13f2e8082798a709e26f766cd4c6d3a0cbd\n",
            "  Stored in directory: /tmp/pip-ephem-wheel-cache-ujnpnf6q/wheels/49/14/fb/7969947b8a18347925a86d2f70e7f600512ed7857bc5cfe9b0\n",
            "  Building wheel for pegasus-wms.api (setup.py) ... \u001b[?25l\u001b[?25hdone\n",
            "  Created wheel for pegasus-wms.api: filename=pegasus_wms.api-5.0.5-py3-none-any.whl size=50029 sha256=f032f373d0de87d4ef7652cac8322c8e4320e6b7f855d5cdb3980c321c3a45eb\n",
            "  Stored in directory: /tmp/pip-ephem-wheel-cache-ujnpnf6q/wheels/60/06/98/0b96d42a23c8fbc8234ecc698deaea58fa75f2abfa661020bd\n",
            "  Building wheel for python-ligo-lw (setup.py) ... \u001b[?25l\u001b[?25hdone\n",
            "  Created wheel for python-ligo-lw: filename=python_ligo_lw-1.8.3-cp39-cp39-linux_x86_64.whl size=165759 sha256=629847bbdd6d616ce6e814ce19a60d607c9db064be2042249049765a21afb3ac\n",
            "  Stored in directory: /tmp/pip-ephem-wheel-cache-ujnpnf6q/wheels/24/4a/01/2b07c68ddef2b4de5051b79a49fb1f9a80a93b075cbf6f3269\n",
            "  Building wheel for ligo-segments (setup.py) ... \u001b[?25l\u001b[?25hdone\n",
            "  Created wheel for ligo-segments: filename=ligo_segments-1.4.0-cp39-cp39-linux_x86_64.whl size=100813 sha256=6f52853b7e226a09ce23c63271b3140b13cd0078012f7bfe0341649da939dcea\n",
            "  Stored in directory: /tmp/pip-ephem-wheel-cache-ujnpnf6q/wheels/bf/48/4b/3b25ac327f65168ccf3ca1f7321bb533db6de5123847f9c6f7\n",
            "  Building wheel for pegasus-wms.common (setup.py) ... \u001b[?25l\u001b[?25hdone\n",
            "  Created wheel for pegasus-wms.common: filename=pegasus_wms.common-5.0.5-py3-none-any.whl size=46251 sha256=b9bd91c83e9fda3efd01d17cd13f2273ca358b22f90ff5d16e85750b2bdb9e77\n",
            "  Stored in directory: /tmp/pip-ephem-wheel-cache-ujnpnf6q/wheels/d1/b7/c9/73d74603a7dedef62914fee6510561dc5db6b7622e501ed625\n",
            "Successfully built lscsoft-glue pegasus-wms.api python-ligo-lw ligo-segments pegasus-wms.common\n",
            "Installing collected packages: ligo-common, safe-netrc, pyRXP, PyJWT, pegasus-wms.common, Mako, ligo-segments, pegasus-wms.api, cryptography, scitokens, pyOpenSSL, mpld3, lscsoft-glue, igwn-auth-utils, python-ligo-lw, lalsuite, gwdatafind, pycbc\n",
            "Successfully installed Mako-1.2.4 PyJWT-2.6.0 cryptography-39.0.2 gwdatafind-1.1.3 igwn-auth-utils-0.4.0 lalsuite-7.13 ligo-common-1.0.3 ligo-segments-1.4.0 lscsoft-glue-3.0.1 mpld3-0.5.9 pegasus-wms.api-5.0.5 pegasus-wms.common-5.0.5 pyOpenSSL-23.0.0 pyRXP-3.0.1 pycbc-2.2.0 python-ligo-lw-1.8.3 safe-netrc-1.0.1 scitokens-1.7.4\n"
          ]
        }
      ],
      "source": [
        "import sys\n",
        "!{sys.executable} -m pip install pycbc ligo-common --no-cache-dir "
      ]
    },
    {
      "cell_type": "code",
      "source": [
        "from pycbc.frame import read_frame\n",
        "from pycbc.filter import highpass_fir, lowpass_fir\n",
        "from pycbc.waveform import get_fd_waveform\n",
        "from pycbc.psd import welch, interpolate\n",
        "from pycbc.catalog import Merger\n",
        "import pylab\n",
        "from pycbc.types import  FrequencySeries, TimeSeries\n",
        "\n",
        "from scipy import interpolate\n",
        "\n",
        "import numpy as np\n",
        "from pycbc import frame\n",
        "import pycbc\n",
        "from pycbc.filter import resample_to_delta_t, highpass\n",
        "import matplotlib.mlab as mlab\n",
        "import matplotlib.pyplot as plt\n",
        "from scipy.stats import norm \n",
        "from pycbc.detector import Detector\n",
        "from scipy.interpolate import interp1d\n",
        "\n",
        "import numpy as np\n",
        "\n",
        "import pylab\n",
        "from pycbc.filter import highpass\n",
        "from pycbc.catalog import Merger\n",
        "from pycbc.frame import read_frame\n",
        "from pycbc.filter import resample_to_delta_t, highpass\n",
        "\n",
        "import numpy as np\n",
        "from pycbc import types \n",
        "from pycbc.waveform import get_fd_waveform\n",
        "from pycbc.filter import matched_filter\n",
        "from pycbc.conversions import mass1_from_mchirp_q\n",
        "from pycbc.waveform import get_td_waveform\n",
        "import pycbc.psd\n",
        "from pycbc.psd import interpolate\n",
        "# As an example we use the GW150914 data\n",
        "from pycbc.catalog import Merger\n",
        "from pycbc.filter import resample_to_delta_t, highpass\n",
        "\n",
        "import pycbc.psd\n",
        "from pycbc.psd import interpolate\n",
        "\n",
        "import scipy\n",
        "from scipy.stats import norm\n",
        "\n",
        "from pycbc.filter import sigmasq\n"
      ],
      "metadata": {
        "id": "KjvTc5nqehoi"
      },
      "execution_count": 54,
      "outputs": []
    },
    {
      "cell_type": "markdown",
      "source": [
        "**1st Assignment - Matching filters**"
      ],
      "metadata": {
        "id": "Id5XCZxy43j2"
      }
    },
    {
      "cell_type": "markdown",
      "source": [
        "**Part 1**"
      ],
      "metadata": {
        "id": "oa29X-jJ2UKv"
      }
    },
    {
      "cell_type": "code",
      "source": [
        "from google.colab import drive\n",
        "drive.mount('/content/drive')"
      ],
      "metadata": {
        "colab": {
          "base_uri": "https://localhost:8080/"
        },
        "id": "GygxzsfQ09eu",
        "outputId": "e378bea8-cc21-4447-f45a-c1515a05b068"
      },
      "execution_count": 4,
      "outputs": [
        {
          "output_type": "stream",
          "name": "stdout",
          "text": [
            "Mounted at /content/drive\n"
          ]
        }
      ]
    },
    {
      "cell_type": "code",
      "source": [
        "d = np.load('/content/drive/MyDrive/GW_noisedata-2.npy') #name of the data file noise_ts_4096Hz.npy\n",
        "dt = d[:, 0]\n",
        "data_H1 = pycbc.types.TimeSeries(d[:, 1], delta_t = dt[1]- dt[0],epoch=dt[0]) #this is to comvert data into GW timeSeries\n",
        "data_L1 = pycbc.types.TimeSeries(d[:, 2], delta_t = dt[1]- dt[0],epoch=dt[0]) #this is to comvert data into GW timeSeries\n",
        "merger = Merger(\"GW170817\")\n",
        "strain, stilde = {}, {}\n",
        "strain['H1'] = resample_to_delta_t(highpass(data_H1, 15.0), 1.0/2048)\n",
        "strain['L1'] = resample_to_delta_t(highpass(data_L1, 15.0), 1.0/2048)\n",
        "\n",
        "strain['H1'] = strain['H1'].crop(4, 4)\n",
        "strain['L1'] = strain['L1'].crop(4, 4)\n",
        "\n",
        "stilde['H1'] = strain['H1'].to_frequencyseries()\n",
        "stilde['L1'] = strain['L1'].to_frequencyseries()\n"
      ],
      "metadata": {
        "id": "wjhIv_9Bekfe",
        "colab": {
          "base_uri": "https://localhost:8080/",
          "height": 514
        },
        "outputId": "3d64c0c0-6c2a-4a9e-f502-1eb1d367ce52"
      },
      "execution_count": 6,
      "outputs": [
        {
          "output_type": "stream",
          "name": "stderr",
          "text": [
            "WARNING:root:Failed on attempt 1 to download https://www.gw-openscience.org/eventapi/jsonfull/GWTC-1-confident/\n"
          ]
        },
        {
          "output_type": "error",
          "ename": "KeyboardInterrupt",
          "evalue": "ignored",
          "traceback": [
            "\u001b[0;31m---------------------------------------------------------------------------\u001b[0m",
            "\u001b[0;31mKeyboardInterrupt\u001b[0m                         Traceback (most recent call last)",
            "\u001b[0;32m<ipython-input-6-81df8aa93ce7>\u001b[0m in \u001b[0;36m<module>\u001b[0;34m\u001b[0m\n\u001b[1;32m      3\u001b[0m \u001b[0mdata_H1\u001b[0m \u001b[0;34m=\u001b[0m \u001b[0mpycbc\u001b[0m\u001b[0;34m.\u001b[0m\u001b[0mtypes\u001b[0m\u001b[0;34m.\u001b[0m\u001b[0mTimeSeries\u001b[0m\u001b[0;34m(\u001b[0m\u001b[0md\u001b[0m\u001b[0;34m[\u001b[0m\u001b[0;34m:\u001b[0m\u001b[0;34m,\u001b[0m \u001b[0;36m1\u001b[0m\u001b[0;34m]\u001b[0m\u001b[0;34m,\u001b[0m \u001b[0mdelta_t\u001b[0m \u001b[0;34m=\u001b[0m \u001b[0mdt\u001b[0m\u001b[0;34m[\u001b[0m\u001b[0;36m1\u001b[0m\u001b[0;34m]\u001b[0m\u001b[0;34m-\u001b[0m \u001b[0mdt\u001b[0m\u001b[0;34m[\u001b[0m\u001b[0;36m0\u001b[0m\u001b[0;34m]\u001b[0m\u001b[0;34m,\u001b[0m\u001b[0mepoch\u001b[0m\u001b[0;34m=\u001b[0m\u001b[0mdt\u001b[0m\u001b[0;34m[\u001b[0m\u001b[0;36m0\u001b[0m\u001b[0;34m]\u001b[0m\u001b[0;34m)\u001b[0m \u001b[0;31m#this is to comvert data into GW timeSeries\u001b[0m\u001b[0;34m\u001b[0m\u001b[0;34m\u001b[0m\u001b[0m\n\u001b[1;32m      4\u001b[0m \u001b[0mdata_L1\u001b[0m \u001b[0;34m=\u001b[0m \u001b[0mpycbc\u001b[0m\u001b[0;34m.\u001b[0m\u001b[0mtypes\u001b[0m\u001b[0;34m.\u001b[0m\u001b[0mTimeSeries\u001b[0m\u001b[0;34m(\u001b[0m\u001b[0md\u001b[0m\u001b[0;34m[\u001b[0m\u001b[0;34m:\u001b[0m\u001b[0;34m,\u001b[0m \u001b[0;36m2\u001b[0m\u001b[0;34m]\u001b[0m\u001b[0;34m,\u001b[0m \u001b[0mdelta_t\u001b[0m \u001b[0;34m=\u001b[0m \u001b[0mdt\u001b[0m\u001b[0;34m[\u001b[0m\u001b[0;36m1\u001b[0m\u001b[0;34m]\u001b[0m\u001b[0;34m-\u001b[0m \u001b[0mdt\u001b[0m\u001b[0;34m[\u001b[0m\u001b[0;36m0\u001b[0m\u001b[0;34m]\u001b[0m\u001b[0;34m,\u001b[0m\u001b[0mepoch\u001b[0m\u001b[0;34m=\u001b[0m\u001b[0mdt\u001b[0m\u001b[0;34m[\u001b[0m\u001b[0;36m0\u001b[0m\u001b[0;34m]\u001b[0m\u001b[0;34m)\u001b[0m \u001b[0;31m#this is to comvert data into GW timeSeries\u001b[0m\u001b[0;34m\u001b[0m\u001b[0;34m\u001b[0m\u001b[0m\n\u001b[0;32m----> 5\u001b[0;31m \u001b[0mmerger\u001b[0m \u001b[0;34m=\u001b[0m \u001b[0mMerger\u001b[0m\u001b[0;34m(\u001b[0m\u001b[0;34m\"GW170817\"\u001b[0m\u001b[0;34m)\u001b[0m\u001b[0;34m\u001b[0m\u001b[0;34m\u001b[0m\u001b[0m\n\u001b[0m\u001b[1;32m      6\u001b[0m \u001b[0mstrain\u001b[0m\u001b[0;34m,\u001b[0m \u001b[0mstilde\u001b[0m \u001b[0;34m=\u001b[0m \u001b[0;34m{\u001b[0m\u001b[0;34m}\u001b[0m\u001b[0;34m,\u001b[0m \u001b[0;34m{\u001b[0m\u001b[0;34m}\u001b[0m\u001b[0;34m\u001b[0m\u001b[0;34m\u001b[0m\u001b[0m\n\u001b[1;32m      7\u001b[0m \u001b[0mstrain\u001b[0m\u001b[0;34m[\u001b[0m\u001b[0;34m'H1'\u001b[0m\u001b[0;34m]\u001b[0m \u001b[0;34m=\u001b[0m \u001b[0mresample_to_delta_t\u001b[0m\u001b[0;34m(\u001b[0m\u001b[0mhighpass\u001b[0m\u001b[0;34m(\u001b[0m\u001b[0mdata_H1\u001b[0m\u001b[0;34m,\u001b[0m \u001b[0;36m15.0\u001b[0m\u001b[0;34m)\u001b[0m\u001b[0;34m,\u001b[0m \u001b[0;36m1.0\u001b[0m\u001b[0;34m/\u001b[0m\u001b[0;36m2048\u001b[0m\u001b[0;34m)\u001b[0m\u001b[0;34m\u001b[0m\u001b[0;34m\u001b[0m\u001b[0m\n",
            "\u001b[0;32m/usr/local/lib/python3.9/dist-packages/pycbc/catalog/__init__.py\u001b[0m in \u001b[0;36m__init__\u001b[0;34m(self, name, source)\u001b[0m\n\u001b[1;32m     49\u001b[0m         \"\"\"\n\u001b[1;32m     50\u001b[0m         \u001b[0;32mtry\u001b[0m\u001b[0;34m:\u001b[0m\u001b[0;34m\u001b[0m\u001b[0;34m\u001b[0m\u001b[0m\n\u001b[0;32m---> 51\u001b[0;31m             \u001b[0mself\u001b[0m\u001b[0;34m.\u001b[0m\u001b[0mdata\u001b[0m \u001b[0;34m=\u001b[0m \u001b[0mcatalog\u001b[0m\u001b[0;34m.\u001b[0m\u001b[0mget_source\u001b[0m\u001b[0;34m(\u001b[0m\u001b[0msource\u001b[0m\u001b[0;34m)\u001b[0m\u001b[0;34m[\u001b[0m\u001b[0mname\u001b[0m\u001b[0;34m]\u001b[0m\u001b[0;34m\u001b[0m\u001b[0;34m\u001b[0m\u001b[0m\n\u001b[0m\u001b[1;32m     52\u001b[0m         \u001b[0;32mexcept\u001b[0m \u001b[0mKeyError\u001b[0m\u001b[0;34m:\u001b[0m\u001b[0;34m\u001b[0m\u001b[0;34m\u001b[0m\u001b[0m\n\u001b[1;32m     53\u001b[0m             \u001b[0;31m# Try common name\u001b[0m\u001b[0;34m\u001b[0m\u001b[0;34m\u001b[0m\u001b[0m\n",
            "\u001b[0;32m/usr/local/lib/python3.9/dist-packages/pycbc/catalog/catalog.py\u001b[0m in \u001b[0;36mget_source\u001b[0;34m(source)\u001b[0m\n\u001b[1;32m     67\u001b[0m         \u001b[0mcatalog_type\u001b[0m \u001b[0;34m=\u001b[0m \u001b[0m_catalogs\u001b[0m\u001b[0;34m[\u001b[0m\u001b[0msource\u001b[0m\u001b[0;34m]\u001b[0m\u001b[0;34m\u001b[0m\u001b[0;34m\u001b[0m\u001b[0m\n\u001b[1;32m     68\u001b[0m         \u001b[0;32mif\u001b[0m \u001b[0mcatalog_type\u001b[0m \u001b[0;34m==\u001b[0m \u001b[0;34m'LVC'\u001b[0m\u001b[0;34m:\u001b[0m\u001b[0;34m\u001b[0m\u001b[0;34m\u001b[0m\u001b[0m\n\u001b[0;32m---> 69\u001b[0;31m             \u001b[0mfname\u001b[0m \u001b[0;34m=\u001b[0m \u001b[0mget_file\u001b[0m\u001b[0;34m(\u001b[0m\u001b[0mbase_lvc_url\u001b[0m\u001b[0;34m.\u001b[0m\u001b[0mformat\u001b[0m\u001b[0;34m(\u001b[0m\u001b[0msource\u001b[0m\u001b[0;34m)\u001b[0m\u001b[0;34m,\u001b[0m \u001b[0mcache\u001b[0m\u001b[0;34m=\u001b[0m\u001b[0;32mTrue\u001b[0m\u001b[0;34m)\u001b[0m\u001b[0;34m\u001b[0m\u001b[0;34m\u001b[0m\u001b[0m\n\u001b[0m\u001b[1;32m     70\u001b[0m             \u001b[0mdata\u001b[0m \u001b[0;34m=\u001b[0m \u001b[0mjson\u001b[0m\u001b[0;34m.\u001b[0m\u001b[0mload\u001b[0m\u001b[0;34m(\u001b[0m\u001b[0mopen\u001b[0m\u001b[0;34m(\u001b[0m\u001b[0mfname\u001b[0m\u001b[0;34m,\u001b[0m \u001b[0;34m'r'\u001b[0m\u001b[0;34m)\u001b[0m\u001b[0;34m)\u001b[0m\u001b[0;34m\u001b[0m\u001b[0;34m\u001b[0m\u001b[0m\n\u001b[1;32m     71\u001b[0m     \u001b[0;32melse\u001b[0m\u001b[0;34m:\u001b[0m\u001b[0;34m\u001b[0m\u001b[0;34m\u001b[0m\u001b[0m\n",
            "\u001b[0;32m/usr/local/lib/python3.9/dist-packages/pycbc/io/__init__.py\u001b[0m in \u001b[0;36mget_file\u001b[0;34m(url, retry, **args)\u001b[0m\n\u001b[1;32m     15\u001b[0m         \u001b[0mi\u001b[0m \u001b[0;34m+=\u001b[0m \u001b[0;36m1\u001b[0m\u001b[0;34m\u001b[0m\u001b[0;34m\u001b[0m\u001b[0m\n\u001b[1;32m     16\u001b[0m         \u001b[0;32mtry\u001b[0m\u001b[0;34m:\u001b[0m\u001b[0;34m\u001b[0m\u001b[0;34m\u001b[0m\u001b[0m\n\u001b[0;32m---> 17\u001b[0;31m             \u001b[0;32mreturn\u001b[0m \u001b[0mdownload_file\u001b[0m\u001b[0;34m(\u001b[0m\u001b[0murl\u001b[0m\u001b[0;34m,\u001b[0m \u001b[0;34m**\u001b[0m\u001b[0margs\u001b[0m\u001b[0;34m)\u001b[0m\u001b[0;34m\u001b[0m\u001b[0;34m\u001b[0m\u001b[0m\n\u001b[0m\u001b[1;32m     18\u001b[0m         \u001b[0;32mexcept\u001b[0m \u001b[0mException\u001b[0m \u001b[0;32mas\u001b[0m \u001b[0me\u001b[0m\u001b[0;34m:\u001b[0m\u001b[0;34m\u001b[0m\u001b[0;34m\u001b[0m\u001b[0m\n\u001b[1;32m     19\u001b[0m             \u001b[0mlogging\u001b[0m\u001b[0;34m.\u001b[0m\u001b[0mwarning\u001b[0m\u001b[0;34m(\u001b[0m\u001b[0;34m\"Failed on attempt %d to download %s\"\u001b[0m\u001b[0;34m,\u001b[0m \u001b[0mi\u001b[0m\u001b[0;34m,\u001b[0m \u001b[0murl\u001b[0m\u001b[0;34m)\u001b[0m\u001b[0;34m\u001b[0m\u001b[0;34m\u001b[0m\u001b[0m\n",
            "\u001b[0;32m/usr/local/lib/python3.9/dist-packages/astropy/utils/data.py\u001b[0m in \u001b[0;36mdownload_file\u001b[0;34m(remote_url, cache, show_progress, timeout, sources, pkgname, http_headers, ssl_context, allow_insecure)\u001b[0m\n\u001b[1;32m   1355\u001b[0m     \u001b[0;32mfor\u001b[0m \u001b[0msource_url\u001b[0m \u001b[0;32min\u001b[0m \u001b[0msources\u001b[0m\u001b[0;34m:\u001b[0m\u001b[0;34m\u001b[0m\u001b[0;34m\u001b[0m\u001b[0m\n\u001b[1;32m   1356\u001b[0m         \u001b[0;32mtry\u001b[0m\u001b[0;34m:\u001b[0m\u001b[0;34m\u001b[0m\u001b[0;34m\u001b[0m\u001b[0m\n\u001b[0;32m-> 1357\u001b[0;31m             f_name = _download_file_from_source(\n\u001b[0m\u001b[1;32m   1358\u001b[0m                     \u001b[0msource_url\u001b[0m\u001b[0;34m,\u001b[0m\u001b[0;34m\u001b[0m\u001b[0;34m\u001b[0m\u001b[0m\n\u001b[1;32m   1359\u001b[0m                     \u001b[0mtimeout\u001b[0m\u001b[0;34m=\u001b[0m\u001b[0mtimeout\u001b[0m\u001b[0;34m,\u001b[0m\u001b[0;34m\u001b[0m\u001b[0;34m\u001b[0m\u001b[0m\n",
            "\u001b[0;32m/usr/local/lib/python3.9/dist-packages/astropy/utils/data.py\u001b[0m in \u001b[0;36m_download_file_from_source\u001b[0;34m(source_url, show_progress, timeout, remote_url, cache, pkgname, http_headers, ftp_tls, ssl_context, allow_insecure)\u001b[0m\n\u001b[1;32m   1159\u001b[0m                 \u001b[0;32mraise\u001b[0m\u001b[0;34m\u001b[0m\u001b[0;34m\u001b[0m\u001b[0m\n\u001b[1;32m   1160\u001b[0m \u001b[0;34m\u001b[0m\u001b[0m\n\u001b[0;32m-> 1161\u001b[0;31m     with _try_url_open(source_url, timeout=timeout, http_headers=http_headers,\n\u001b[0m\u001b[1;32m   1162\u001b[0m             \u001b[0mftp_tls\u001b[0m\u001b[0;34m=\u001b[0m\u001b[0mftp_tls\u001b[0m\u001b[0;34m,\u001b[0m \u001b[0mssl_context\u001b[0m\u001b[0;34m=\u001b[0m\u001b[0mssl_context\u001b[0m\u001b[0;34m,\u001b[0m\u001b[0;34m\u001b[0m\u001b[0;34m\u001b[0m\u001b[0m\n\u001b[1;32m   1163\u001b[0m             allow_insecure=allow_insecure) as remote:\n",
            "\u001b[0;32m/usr/local/lib/python3.9/dist-packages/astropy/utils/data.py\u001b[0m in \u001b[0;36m_try_url_open\u001b[0;34m(source_url, timeout, http_headers, ftp_tls, ssl_context, allow_insecure)\u001b[0m\n\u001b[1;32m   1089\u001b[0m \u001b[0;34m\u001b[0m\u001b[0m\n\u001b[1;32m   1090\u001b[0m     \u001b[0;32mtry\u001b[0m\u001b[0;34m:\u001b[0m\u001b[0;34m\u001b[0m\u001b[0;34m\u001b[0m\u001b[0m\n\u001b[0;32m-> 1091\u001b[0;31m         \u001b[0;32mreturn\u001b[0m \u001b[0murlopener\u001b[0m\u001b[0;34m.\u001b[0m\u001b[0mopen\u001b[0m\u001b[0;34m(\u001b[0m\u001b[0mreq\u001b[0m\u001b[0;34m,\u001b[0m \u001b[0mtimeout\u001b[0m\u001b[0;34m=\u001b[0m\u001b[0mtimeout\u001b[0m\u001b[0;34m)\u001b[0m\u001b[0;34m\u001b[0m\u001b[0;34m\u001b[0m\u001b[0m\n\u001b[0m\u001b[1;32m   1092\u001b[0m     \u001b[0;32mexcept\u001b[0m \u001b[0murllib\u001b[0m\u001b[0;34m.\u001b[0m\u001b[0merror\u001b[0m\u001b[0;34m.\u001b[0m\u001b[0mURLError\u001b[0m \u001b[0;32mas\u001b[0m \u001b[0mexc\u001b[0m\u001b[0;34m:\u001b[0m\u001b[0;34m\u001b[0m\u001b[0;34m\u001b[0m\u001b[0m\n\u001b[1;32m   1093\u001b[0m         \u001b[0mreason\u001b[0m \u001b[0;34m=\u001b[0m \u001b[0mexc\u001b[0m\u001b[0;34m.\u001b[0m\u001b[0mreason\u001b[0m\u001b[0;34m\u001b[0m\u001b[0;34m\u001b[0m\u001b[0m\n",
            "\u001b[0;32m/usr/lib/python3.9/urllib/request.py\u001b[0m in \u001b[0;36mopen\u001b[0;34m(self, fullurl, data, timeout)\u001b[0m\n\u001b[1;32m    515\u001b[0m \u001b[0;34m\u001b[0m\u001b[0m\n\u001b[1;32m    516\u001b[0m         \u001b[0msys\u001b[0m\u001b[0;34m.\u001b[0m\u001b[0maudit\u001b[0m\u001b[0;34m(\u001b[0m\u001b[0;34m'urllib.Request'\u001b[0m\u001b[0;34m,\u001b[0m \u001b[0mreq\u001b[0m\u001b[0;34m.\u001b[0m\u001b[0mfull_url\u001b[0m\u001b[0;34m,\u001b[0m \u001b[0mreq\u001b[0m\u001b[0;34m.\u001b[0m\u001b[0mdata\u001b[0m\u001b[0;34m,\u001b[0m \u001b[0mreq\u001b[0m\u001b[0;34m.\u001b[0m\u001b[0mheaders\u001b[0m\u001b[0;34m,\u001b[0m \u001b[0mreq\u001b[0m\u001b[0;34m.\u001b[0m\u001b[0mget_method\u001b[0m\u001b[0;34m(\u001b[0m\u001b[0;34m)\u001b[0m\u001b[0;34m)\u001b[0m\u001b[0;34m\u001b[0m\u001b[0;34m\u001b[0m\u001b[0m\n\u001b[0;32m--> 517\u001b[0;31m         \u001b[0mresponse\u001b[0m \u001b[0;34m=\u001b[0m \u001b[0mself\u001b[0m\u001b[0;34m.\u001b[0m\u001b[0m_open\u001b[0m\u001b[0;34m(\u001b[0m\u001b[0mreq\u001b[0m\u001b[0;34m,\u001b[0m \u001b[0mdata\u001b[0m\u001b[0;34m)\u001b[0m\u001b[0;34m\u001b[0m\u001b[0;34m\u001b[0m\u001b[0m\n\u001b[0m\u001b[1;32m    518\u001b[0m \u001b[0;34m\u001b[0m\u001b[0m\n\u001b[1;32m    519\u001b[0m         \u001b[0;31m# post-process response\u001b[0m\u001b[0;34m\u001b[0m\u001b[0;34m\u001b[0m\u001b[0m\n",
            "\u001b[0;32m/usr/lib/python3.9/urllib/request.py\u001b[0m in \u001b[0;36m_open\u001b[0;34m(self, req, data)\u001b[0m\n\u001b[1;32m    532\u001b[0m \u001b[0;34m\u001b[0m\u001b[0m\n\u001b[1;32m    533\u001b[0m         \u001b[0mprotocol\u001b[0m \u001b[0;34m=\u001b[0m \u001b[0mreq\u001b[0m\u001b[0;34m.\u001b[0m\u001b[0mtype\u001b[0m\u001b[0;34m\u001b[0m\u001b[0;34m\u001b[0m\u001b[0m\n\u001b[0;32m--> 534\u001b[0;31m         result = self._call_chain(self.handle_open, protocol, protocol +\n\u001b[0m\u001b[1;32m    535\u001b[0m                                   '_open', req)\n\u001b[1;32m    536\u001b[0m         \u001b[0;32mif\u001b[0m \u001b[0mresult\u001b[0m\u001b[0;34m:\u001b[0m\u001b[0;34m\u001b[0m\u001b[0;34m\u001b[0m\u001b[0m\n",
            "\u001b[0;32m/usr/lib/python3.9/urllib/request.py\u001b[0m in \u001b[0;36m_call_chain\u001b[0;34m(self, chain, kind, meth_name, *args)\u001b[0m\n\u001b[1;32m    492\u001b[0m         \u001b[0;32mfor\u001b[0m \u001b[0mhandler\u001b[0m \u001b[0;32min\u001b[0m \u001b[0mhandlers\u001b[0m\u001b[0;34m:\u001b[0m\u001b[0;34m\u001b[0m\u001b[0;34m\u001b[0m\u001b[0m\n\u001b[1;32m    493\u001b[0m             \u001b[0mfunc\u001b[0m \u001b[0;34m=\u001b[0m \u001b[0mgetattr\u001b[0m\u001b[0;34m(\u001b[0m\u001b[0mhandler\u001b[0m\u001b[0;34m,\u001b[0m \u001b[0mmeth_name\u001b[0m\u001b[0;34m)\u001b[0m\u001b[0;34m\u001b[0m\u001b[0;34m\u001b[0m\u001b[0m\n\u001b[0;32m--> 494\u001b[0;31m             \u001b[0mresult\u001b[0m \u001b[0;34m=\u001b[0m \u001b[0mfunc\u001b[0m\u001b[0;34m(\u001b[0m\u001b[0;34m*\u001b[0m\u001b[0margs\u001b[0m\u001b[0;34m)\u001b[0m\u001b[0;34m\u001b[0m\u001b[0;34m\u001b[0m\u001b[0m\n\u001b[0m\u001b[1;32m    495\u001b[0m             \u001b[0;32mif\u001b[0m \u001b[0mresult\u001b[0m \u001b[0;32mis\u001b[0m \u001b[0;32mnot\u001b[0m \u001b[0;32mNone\u001b[0m\u001b[0;34m:\u001b[0m\u001b[0;34m\u001b[0m\u001b[0;34m\u001b[0m\u001b[0m\n\u001b[1;32m    496\u001b[0m                 \u001b[0;32mreturn\u001b[0m \u001b[0mresult\u001b[0m\u001b[0;34m\u001b[0m\u001b[0;34m\u001b[0m\u001b[0m\n",
            "\u001b[0;32m/usr/lib/python3.9/urllib/request.py\u001b[0m in \u001b[0;36mhttps_open\u001b[0;34m(self, req)\u001b[0m\n\u001b[1;32m   1387\u001b[0m \u001b[0;34m\u001b[0m\u001b[0m\n\u001b[1;32m   1388\u001b[0m         \u001b[0;32mdef\u001b[0m \u001b[0mhttps_open\u001b[0m\u001b[0;34m(\u001b[0m\u001b[0mself\u001b[0m\u001b[0;34m,\u001b[0m \u001b[0mreq\u001b[0m\u001b[0;34m)\u001b[0m\u001b[0;34m:\u001b[0m\u001b[0;34m\u001b[0m\u001b[0;34m\u001b[0m\u001b[0m\n\u001b[0;32m-> 1389\u001b[0;31m             return self.do_open(http.client.HTTPSConnection, req,\n\u001b[0m\u001b[1;32m   1390\u001b[0m                 context=self._context, check_hostname=self._check_hostname)\n\u001b[1;32m   1391\u001b[0m \u001b[0;34m\u001b[0m\u001b[0m\n",
            "\u001b[0;32m/usr/lib/python3.9/urllib/request.py\u001b[0m in \u001b[0;36mdo_open\u001b[0;34m(self, http_class, req, **http_conn_args)\u001b[0m\n\u001b[1;32m   1344\u001b[0m         \u001b[0;32mtry\u001b[0m\u001b[0;34m:\u001b[0m\u001b[0;34m\u001b[0m\u001b[0;34m\u001b[0m\u001b[0m\n\u001b[1;32m   1345\u001b[0m             \u001b[0;32mtry\u001b[0m\u001b[0;34m:\u001b[0m\u001b[0;34m\u001b[0m\u001b[0;34m\u001b[0m\u001b[0m\n\u001b[0;32m-> 1346\u001b[0;31m                 h.request(req.get_method(), req.selector, req.data, headers,\n\u001b[0m\u001b[1;32m   1347\u001b[0m                           encode_chunked=req.has_header('Transfer-encoding'))\n\u001b[1;32m   1348\u001b[0m             \u001b[0;32mexcept\u001b[0m \u001b[0mOSError\u001b[0m \u001b[0;32mas\u001b[0m \u001b[0merr\u001b[0m\u001b[0;34m:\u001b[0m \u001b[0;31m# timeout error\u001b[0m\u001b[0;34m\u001b[0m\u001b[0;34m\u001b[0m\u001b[0m\n",
            "\u001b[0;32m/usr/lib/python3.9/http/client.py\u001b[0m in \u001b[0;36mrequest\u001b[0;34m(self, method, url, body, headers, encode_chunked)\u001b[0m\n\u001b[1;32m   1283\u001b[0m                 encode_chunked=False):\n\u001b[1;32m   1284\u001b[0m         \u001b[0;34m\"\"\"Send a complete request to the server.\"\"\"\u001b[0m\u001b[0;34m\u001b[0m\u001b[0;34m\u001b[0m\u001b[0m\n\u001b[0;32m-> 1285\u001b[0;31m         \u001b[0mself\u001b[0m\u001b[0;34m.\u001b[0m\u001b[0m_send_request\u001b[0m\u001b[0;34m(\u001b[0m\u001b[0mmethod\u001b[0m\u001b[0;34m,\u001b[0m \u001b[0murl\u001b[0m\u001b[0;34m,\u001b[0m \u001b[0mbody\u001b[0m\u001b[0;34m,\u001b[0m \u001b[0mheaders\u001b[0m\u001b[0;34m,\u001b[0m \u001b[0mencode_chunked\u001b[0m\u001b[0;34m)\u001b[0m\u001b[0;34m\u001b[0m\u001b[0;34m\u001b[0m\u001b[0m\n\u001b[0m\u001b[1;32m   1286\u001b[0m \u001b[0;34m\u001b[0m\u001b[0m\n\u001b[1;32m   1287\u001b[0m     \u001b[0;32mdef\u001b[0m \u001b[0m_send_request\u001b[0m\u001b[0;34m(\u001b[0m\u001b[0mself\u001b[0m\u001b[0;34m,\u001b[0m \u001b[0mmethod\u001b[0m\u001b[0;34m,\u001b[0m \u001b[0murl\u001b[0m\u001b[0;34m,\u001b[0m \u001b[0mbody\u001b[0m\u001b[0;34m,\u001b[0m \u001b[0mheaders\u001b[0m\u001b[0;34m,\u001b[0m \u001b[0mencode_chunked\u001b[0m\u001b[0;34m)\u001b[0m\u001b[0;34m:\u001b[0m\u001b[0;34m\u001b[0m\u001b[0;34m\u001b[0m\u001b[0m\n",
            "\u001b[0;32m/usr/lib/python3.9/http/client.py\u001b[0m in \u001b[0;36m_send_request\u001b[0;34m(self, method, url, body, headers, encode_chunked)\u001b[0m\n\u001b[1;32m   1329\u001b[0m             \u001b[0;31m# default charset of iso-8859-1.\u001b[0m\u001b[0;34m\u001b[0m\u001b[0;34m\u001b[0m\u001b[0m\n\u001b[1;32m   1330\u001b[0m             \u001b[0mbody\u001b[0m \u001b[0;34m=\u001b[0m \u001b[0m_encode\u001b[0m\u001b[0;34m(\u001b[0m\u001b[0mbody\u001b[0m\u001b[0;34m,\u001b[0m \u001b[0;34m'body'\u001b[0m\u001b[0;34m)\u001b[0m\u001b[0;34m\u001b[0m\u001b[0;34m\u001b[0m\u001b[0m\n\u001b[0;32m-> 1331\u001b[0;31m         \u001b[0mself\u001b[0m\u001b[0;34m.\u001b[0m\u001b[0mendheaders\u001b[0m\u001b[0;34m(\u001b[0m\u001b[0mbody\u001b[0m\u001b[0;34m,\u001b[0m \u001b[0mencode_chunked\u001b[0m\u001b[0;34m=\u001b[0m\u001b[0mencode_chunked\u001b[0m\u001b[0;34m)\u001b[0m\u001b[0;34m\u001b[0m\u001b[0;34m\u001b[0m\u001b[0m\n\u001b[0m\u001b[1;32m   1332\u001b[0m \u001b[0;34m\u001b[0m\u001b[0m\n\u001b[1;32m   1333\u001b[0m     \u001b[0;32mdef\u001b[0m \u001b[0mgetresponse\u001b[0m\u001b[0;34m(\u001b[0m\u001b[0mself\u001b[0m\u001b[0;34m)\u001b[0m\u001b[0;34m:\u001b[0m\u001b[0;34m\u001b[0m\u001b[0;34m\u001b[0m\u001b[0m\n",
            "\u001b[0;32m/usr/lib/python3.9/http/client.py\u001b[0m in \u001b[0;36mendheaders\u001b[0;34m(self, message_body, encode_chunked)\u001b[0m\n\u001b[1;32m   1278\u001b[0m         \u001b[0;32melse\u001b[0m\u001b[0;34m:\u001b[0m\u001b[0;34m\u001b[0m\u001b[0;34m\u001b[0m\u001b[0m\n\u001b[1;32m   1279\u001b[0m             \u001b[0;32mraise\u001b[0m \u001b[0mCannotSendHeader\u001b[0m\u001b[0;34m(\u001b[0m\u001b[0;34m)\u001b[0m\u001b[0;34m\u001b[0m\u001b[0;34m\u001b[0m\u001b[0m\n\u001b[0;32m-> 1280\u001b[0;31m         \u001b[0mself\u001b[0m\u001b[0;34m.\u001b[0m\u001b[0m_send_output\u001b[0m\u001b[0;34m(\u001b[0m\u001b[0mmessage_body\u001b[0m\u001b[0;34m,\u001b[0m \u001b[0mencode_chunked\u001b[0m\u001b[0;34m=\u001b[0m\u001b[0mencode_chunked\u001b[0m\u001b[0;34m)\u001b[0m\u001b[0;34m\u001b[0m\u001b[0;34m\u001b[0m\u001b[0m\n\u001b[0m\u001b[1;32m   1281\u001b[0m \u001b[0;34m\u001b[0m\u001b[0m\n\u001b[1;32m   1282\u001b[0m     def request(self, method, url, body=None, headers={}, *,\n",
            "\u001b[0;32m/usr/lib/python3.9/http/client.py\u001b[0m in \u001b[0;36m_send_output\u001b[0;34m(self, message_body, encode_chunked)\u001b[0m\n\u001b[1;32m   1038\u001b[0m         \u001b[0mmsg\u001b[0m \u001b[0;34m=\u001b[0m \u001b[0;34mb\"\\r\\n\"\u001b[0m\u001b[0;34m.\u001b[0m\u001b[0mjoin\u001b[0m\u001b[0;34m(\u001b[0m\u001b[0mself\u001b[0m\u001b[0;34m.\u001b[0m\u001b[0m_buffer\u001b[0m\u001b[0;34m)\u001b[0m\u001b[0;34m\u001b[0m\u001b[0;34m\u001b[0m\u001b[0m\n\u001b[1;32m   1039\u001b[0m         \u001b[0;32mdel\u001b[0m \u001b[0mself\u001b[0m\u001b[0;34m.\u001b[0m\u001b[0m_buffer\u001b[0m\u001b[0;34m[\u001b[0m\u001b[0;34m:\u001b[0m\u001b[0;34m]\u001b[0m\u001b[0;34m\u001b[0m\u001b[0;34m\u001b[0m\u001b[0m\n\u001b[0;32m-> 1040\u001b[0;31m         \u001b[0mself\u001b[0m\u001b[0;34m.\u001b[0m\u001b[0msend\u001b[0m\u001b[0;34m(\u001b[0m\u001b[0mmsg\u001b[0m\u001b[0;34m)\u001b[0m\u001b[0;34m\u001b[0m\u001b[0;34m\u001b[0m\u001b[0m\n\u001b[0m\u001b[1;32m   1041\u001b[0m \u001b[0;34m\u001b[0m\u001b[0m\n\u001b[1;32m   1042\u001b[0m         \u001b[0;32mif\u001b[0m \u001b[0mmessage_body\u001b[0m \u001b[0;32mis\u001b[0m \u001b[0;32mnot\u001b[0m \u001b[0;32mNone\u001b[0m\u001b[0;34m:\u001b[0m\u001b[0;34m\u001b[0m\u001b[0;34m\u001b[0m\u001b[0m\n",
            "\u001b[0;32m/usr/lib/python3.9/http/client.py\u001b[0m in \u001b[0;36msend\u001b[0;34m(self, data)\u001b[0m\n\u001b[1;32m    978\u001b[0m         \u001b[0;32mif\u001b[0m \u001b[0mself\u001b[0m\u001b[0;34m.\u001b[0m\u001b[0msock\u001b[0m \u001b[0;32mis\u001b[0m \u001b[0;32mNone\u001b[0m\u001b[0;34m:\u001b[0m\u001b[0;34m\u001b[0m\u001b[0;34m\u001b[0m\u001b[0m\n\u001b[1;32m    979\u001b[0m             \u001b[0;32mif\u001b[0m \u001b[0mself\u001b[0m\u001b[0;34m.\u001b[0m\u001b[0mauto_open\u001b[0m\u001b[0;34m:\u001b[0m\u001b[0;34m\u001b[0m\u001b[0;34m\u001b[0m\u001b[0m\n\u001b[0;32m--> 980\u001b[0;31m                 \u001b[0mself\u001b[0m\u001b[0;34m.\u001b[0m\u001b[0mconnect\u001b[0m\u001b[0;34m(\u001b[0m\u001b[0;34m)\u001b[0m\u001b[0;34m\u001b[0m\u001b[0;34m\u001b[0m\u001b[0m\n\u001b[0m\u001b[1;32m    981\u001b[0m             \u001b[0;32melse\u001b[0m\u001b[0;34m:\u001b[0m\u001b[0;34m\u001b[0m\u001b[0;34m\u001b[0m\u001b[0m\n\u001b[1;32m    982\u001b[0m                 \u001b[0;32mraise\u001b[0m \u001b[0mNotConnected\u001b[0m\u001b[0;34m(\u001b[0m\u001b[0;34m)\u001b[0m\u001b[0;34m\u001b[0m\u001b[0;34m\u001b[0m\u001b[0m\n",
            "\u001b[0;32m/usr/lib/python3.9/http/client.py\u001b[0m in \u001b[0;36mconnect\u001b[0;34m(self)\u001b[0m\n\u001b[1;32m   1445\u001b[0m             \u001b[0;34m\"Connect to a host on a given (SSL) port.\"\u001b[0m\u001b[0;34m\u001b[0m\u001b[0;34m\u001b[0m\u001b[0m\n\u001b[1;32m   1446\u001b[0m \u001b[0;34m\u001b[0m\u001b[0m\n\u001b[0;32m-> 1447\u001b[0;31m             \u001b[0msuper\u001b[0m\u001b[0;34m(\u001b[0m\u001b[0;34m)\u001b[0m\u001b[0;34m.\u001b[0m\u001b[0mconnect\u001b[0m\u001b[0;34m(\u001b[0m\u001b[0;34m)\u001b[0m\u001b[0;34m\u001b[0m\u001b[0;34m\u001b[0m\u001b[0m\n\u001b[0m\u001b[1;32m   1448\u001b[0m \u001b[0;34m\u001b[0m\u001b[0m\n\u001b[1;32m   1449\u001b[0m             \u001b[0;32mif\u001b[0m \u001b[0mself\u001b[0m\u001b[0;34m.\u001b[0m\u001b[0m_tunnel_host\u001b[0m\u001b[0;34m:\u001b[0m\u001b[0;34m\u001b[0m\u001b[0;34m\u001b[0m\u001b[0m\n",
            "\u001b[0;32m/usr/lib/python3.9/http/client.py\u001b[0m in \u001b[0;36mconnect\u001b[0;34m(self)\u001b[0m\n\u001b[1;32m    944\u001b[0m     \u001b[0;32mdef\u001b[0m \u001b[0mconnect\u001b[0m\u001b[0;34m(\u001b[0m\u001b[0mself\u001b[0m\u001b[0;34m)\u001b[0m\u001b[0;34m:\u001b[0m\u001b[0;34m\u001b[0m\u001b[0;34m\u001b[0m\u001b[0m\n\u001b[1;32m    945\u001b[0m         \u001b[0;34m\"\"\"Connect to the host and port specified in __init__.\"\"\"\u001b[0m\u001b[0;34m\u001b[0m\u001b[0;34m\u001b[0m\u001b[0m\n\u001b[0;32m--> 946\u001b[0;31m         self.sock = self._create_connection(\n\u001b[0m\u001b[1;32m    947\u001b[0m             (self.host,self.port), self.timeout, self.source_address)\n\u001b[1;32m    948\u001b[0m         \u001b[0;31m# Might fail in OSs that don't implement TCP_NODELAY\u001b[0m\u001b[0;34m\u001b[0m\u001b[0;34m\u001b[0m\u001b[0m\n",
            "\u001b[0;32m/usr/lib/python3.9/socket.py\u001b[0m in \u001b[0;36mcreate_connection\u001b[0;34m(address, timeout, source_address)\u001b[0m\n\u001b[1;32m    830\u001b[0m             \u001b[0;32mif\u001b[0m \u001b[0msource_address\u001b[0m\u001b[0;34m:\u001b[0m\u001b[0;34m\u001b[0m\u001b[0;34m\u001b[0m\u001b[0m\n\u001b[1;32m    831\u001b[0m                 \u001b[0msock\u001b[0m\u001b[0;34m.\u001b[0m\u001b[0mbind\u001b[0m\u001b[0;34m(\u001b[0m\u001b[0msource_address\u001b[0m\u001b[0;34m)\u001b[0m\u001b[0;34m\u001b[0m\u001b[0;34m\u001b[0m\u001b[0m\n\u001b[0;32m--> 832\u001b[0;31m             \u001b[0msock\u001b[0m\u001b[0;34m.\u001b[0m\u001b[0mconnect\u001b[0m\u001b[0;34m(\u001b[0m\u001b[0msa\u001b[0m\u001b[0;34m)\u001b[0m\u001b[0;34m\u001b[0m\u001b[0;34m\u001b[0m\u001b[0m\n\u001b[0m\u001b[1;32m    833\u001b[0m             \u001b[0;31m# Break explicitly a reference cycle\u001b[0m\u001b[0;34m\u001b[0m\u001b[0;34m\u001b[0m\u001b[0m\n\u001b[1;32m    834\u001b[0m             \u001b[0merr\u001b[0m \u001b[0;34m=\u001b[0m \u001b[0;32mNone\u001b[0m\u001b[0;34m\u001b[0m\u001b[0;34m\u001b[0m\u001b[0m\n",
            "\u001b[0;31mKeyboardInterrupt\u001b[0m: "
          ]
        }
      ]
    },
    {
      "cell_type": "code",
      "source": [
        "#print (strain.delta_t)\n",
        "pylab.plot(strain['H1'].sample_times, strain['H1'], label= 'H1')\n",
        "pylab.plot(strain['L1'].sample_times, strain['L1'], label= 'L1')\n",
        "pylab.legend()\n",
        "pylab.xlabel('Time (s)')\n",
        "pylab.ylabel('strain')\n",
        "pylab.show()\n"
      ],
      "metadata": {
        "id": "Os9KMTFbfL7j"
      },
      "execution_count": null,
      "outputs": []
    },
    {
      "cell_type": "markdown",
      "source": [
        "**Part 2**"
      ],
      "metadata": {
        "id": "1oJAdkCpYCD2"
      }
    },
    {
      "cell_type": "code",
      "source": [
        "#power spectral density\n",
        "psds = {}\n",
        "for ifo in ['L1', 'H1']:\n",
        "\n",
        "\n",
        "    delta_t = strain[ifo].delta_t #sampling time\n",
        "    seg_len = int(2 / delta_t) \n",
        "    seg_stride = int(seg_len / 2) #how much overlapping of the segments \n",
        "    psds[ifo]  = pycbc.psd.welch(strain[ifo],\n",
        "                      seg_len=seg_len,\n",
        "                      seg_stride=seg_stride)\n",
        "    psds[ifo] = interpolate(psds[ifo], stilde[ifo].delta_f)\n",
        "    \n",
        "  "
      ],
      "metadata": {
        "id": "RmzgDwiFfxX2"
      },
      "execution_count": null,
      "outputs": []
    },
    {
      "cell_type": "code",
      "source": [
        "#creating gw waveform \n",
        "\n",
        "mass1 = np.arange(1, 3,0.001 ) #mass range bewteen 1 to 3 Solar mass\n",
        "mass2 = mass1 \n",
        "\n",
        "# Variables to store when we've found the max\n",
        "hmax, smax, tmax, mmax, nsnr = None, {}, {}, 0, 0\n",
        "snrs = []\n",
        " \n",
        "for m in mass1:\n",
        "    #Generate a waveform with a given component mass; assumed equal mass, nonspinning\n",
        "    hp, hc = get_fd_waveform(approximant=\"TaylorF2\",\n",
        "                             mass1=m, mass2=m,\n",
        "                             f_lower=20, delta_f=stilde[ifo].delta_f)\n",
        "    hp.resize(len(stilde[ifo]))\n",
        "   \n",
        "    # Matched filter the data and find the peak \n",
        "    max_snr, max_time = {}, {}\n",
        "    for ifo in ['L1', 'H1']:\n",
        "        snr = matched_filter(hp, stilde[ifo], psd=psds[ifo], low_frequency_cutoff=20.0)\n",
        "        snr_H1 = snr.crop(4 + 4, 4)\n",
        " \n",
        "        # # The complex SNR at the peak\n",
        "      \n",
        "        _, idx = snr_H1.abs_max_loc()\n",
        "        max_snr[ifo] = snr_H1[idx]\n",
        "       \n",
        "        # The time of the peak\n",
        "    snrs.append(max_snr)\n",
        "\n"
      ],
      "metadata": {
        "id": "TPttAxCp1777"
      },
      "execution_count": null,
      "outputs": []
    },
    {
      "cell_type": "code",
      "source": [
        "snrL1=[]\n",
        "snrH1=[]\n",
        "for snr in snrs:\n",
        "  snrL1.append(np.abs(snr['L1']))\n",
        "  snrH1.append(np.abs(snr['H1']))\n",
        "nsnr=np.sqrt(np.array(snrL1)**2+np.array(snrH1)**2)\n",
        "pylab.plot(mass1,snrL1)\n",
        "pylab.plot(mass1,snrH1)\n",
        "pylab.plot(mass1,nsnr)\n",
        "pylab.xlim(1.360,1.390)\n",
        "\n",
        "#mass of max snr\n",
        "max_index=np.where(nsnr==max(nsnr))\n",
        "print('the best mass1=mass2 is {} solar masses'.format(mass1[max_index][0]))"
      ],
      "metadata": {
        "id": "uapCpb6J4oD4"
      },
      "execution_count": null,
      "outputs": []
    },
    {
      "cell_type": "markdown",
      "source": [
        "note that the snr is greater than 8, which is the threshold. therefore, the data have a signal "
      ],
      "metadata": {
        "id": "oTvhbTOYGci5"
      }
    },
    {
      "cell_type": "code",
      "source": [
        "#recreating template using the mass that maximises our snr\n",
        "m = 1.38 # Solar masses\n",
        "conditioned = stilde['H1']\n",
        "hp, hc = get_fd_waveform(approximant=\"TaylorF2\",\n",
        "                     mass1=m,\n",
        "                     mass2=m,\n",
        "                     delta_f=conditioned.delta_f,\n",
        "                     f_lower=20)\n",
        "\n",
        "# We will resize the vector to match our data\n",
        "hp.resize(len(conditioned))\n",
        "\n",
        "template = hp .cyclic_time_shift(hp.start_time)\n",
        "pylab.plot(template.to_timeseries())\n",
        "pylab.show()"
      ],
      "metadata": {
        "id": "sneDH2Os5XKw"
      },
      "execution_count": null,
      "outputs": []
    },
    {
      "cell_type": "code",
      "source": [
        "#new fitting with new data\n",
        "ifo = 'L1'                            \n",
        "conditioned = strain[ifo]\n",
        "snr = matched_filter(template, conditioned,\n",
        "                     psd=psds[ifo] , low_frequency_cutoff=15)\n",
        "\n",
        "snr = snr.crop(4 + 4, 4)\n",
        "\n",
        "pylab.figure(figsize=[10, 4])\n",
        "pylab.plot(snr.sample_times, abs(snr))\n",
        "pylab.ylabel('Signal-to-noise')\n",
        "pylab.xlabel('Time (s)')\n",
        "pylab.show()\n",
        "\n",
        "peak = abs(snr).numpy().argmax()\n",
        "snrp = snr[peak]\n",
        "time = snr.sample_times[peak]\n",
        "\n",
        "print(\"We found a signal at {}s with SNR {}\".format(time, \n",
        "                                                    abs(snrp)))"
      ],
      "metadata": {
        "id": "8gk5Kxpj5iiS"
      },
      "execution_count": null,
      "outputs": []
    },
    {
      "cell_type": "code",
      "source": [
        "from pycbc.filter import sigma\n",
        "\n",
        "# Shift the template to the peak time\n",
        "dt = time - conditioned.start_time\n",
        "aligned = template.cyclic_time_shift(dt)\n",
        "\n",
        "# scale the template so that it would have SNR 1 in this data\n",
        "aligned /= sigma(aligned, psd=psds[ifo], low_frequency_cutoff=20.0)\n",
        "\n",
        "# Scale the template amplitude and phase to the peak value\n",
        "aligned = (aligned.to_frequencyseries() * snrp).to_timeseries()\n",
        "aligned.start_time = conditioned.start_time"
      ],
      "metadata": {
        "id": "eeGN-DKaFwCE"
      },
      "execution_count": null,
      "outputs": []
    },
    {
      "cell_type": "code",
      "source": [
        "# We do it this way so that we can whiten both the template and the data\n",
        "white_data = (conditioned.to_frequencyseries() / psds[ifo]**0.5).to_timeseries()\n",
        "\n",
        "# apply a smoothing of the turnon of the template to avoid a transient\n",
        "# from the sharp turn on in the waveform.\n",
        "tapered = aligned.highpass_fir(15, 400, remove_corrupted=False)\n",
        "white_template = (tapered.to_frequencyseries() / psds[ifo]**0.5).to_timeseries()\n",
        "\n",
        "white_data = white_data.highpass_fir(15., 400).lowpass_fir(200, 400)\n",
        "#white_template = white_template.highpass_fir(30, 512).lowpass_fir(300, 512)\n",
        "\n",
        "# Select the time around the merger\n",
        "white_data = white_data.time_slice(merger.time-.2, merger.time+.1)\n",
        "white_template = white_template.time_slice(merger.time-.2, merger.time+.1)\n",
        "\n",
        "pylab.figure(figsize=[15, 3])\n",
        "pylab.plot(white_data.sample_times, white_data, label=\"Data\")\n",
        "pylab.plot(white_template.sample_times, white_template, label=\"Template\")\n",
        "pylab.legend()\n",
        "pylab.show()"
      ],
      "metadata": {
        "id": "KxSnHuqOUjrm"
      },
      "execution_count": null,
      "outputs": []
    },
    {
      "cell_type": "code",
      "source": [
        "subtracted = conditioned - aligned\n",
        "\n",
        "# Plot the original data and the subtracted signal data\n",
        "\n",
        "for data, title in [(conditioned, 'Original H1 Data'),\n",
        "                    (subtracted, 'Signal Subtracted from H1 Data')]:\n",
        "\n",
        "    t, f, p = data.whiten(4, 4).qtransform(.001,\n",
        "                                                  logfsteps=100,\n",
        "                                                  qrange=(8, 8),\n",
        "                                                  frange=(20, 512))\n",
        "    pylab.figure(figsize=[15, 3])\n",
        "    pylab.title(title)\n",
        "    pylab.pcolormesh(t, f, p**0.5, vmin=1, vmax=6)\n",
        "    pylab.yscale('log')\n",
        "    pylab.xlabel('Time (s)')\n",
        "    pylab.ylabel('Frequency (Hz)')\n",
        "    pylab.xlim(merger.time - 2, merger.time + 1)\n",
        "    pylab.show()"
      ],
      "metadata": {
        "id": "KWif2xmIWEy_"
      },
      "execution_count": null,
      "outputs": []
    },
    {
      "cell_type": "markdown",
      "source": [
        "**Part 3**"
      ],
      "metadata": {
        "id": "Qarrm0JlgIMb"
      }
    },
    {
      "cell_type": "code",
      "source": [
        "from pycbc.psd import aLIGOZeroDetHighPower\n",
        "from pycbc.filter import match\n",
        "m = 10\n",
        "f_low = 30\n",
        "rate = 4096\n",
        "ms = []\n",
        "hp,hc = get_td_waveform(approximant=\"TaylorT2\",\n",
        "                      mass1=m,\n",
        "                      mass2=m,\n",
        "                      delta_t=1/rate,\n",
        "                      f_lower=f_low)\n",
        "masses = np.arange(5,15,0.2)\n",
        "sps = []\n",
        "for mass in masses:\n",
        "  sp,sh = get_td_waveform(approximant=\"TaylorT2\",\n",
        "                      mass1=mass,\n",
        "                      mass2=mass,\n",
        "                      delta_t=1/rate,\n",
        "                      f_lower=f_low)\n",
        "  sps.append(sp)\n",
        "\n",
        "\n",
        "tlen = max(len(hp),len(sps[0]))\n",
        "\n",
        "hp.resize(tlen)\n",
        "for sp in sps:\n",
        "  sp.resize(tlen)\n",
        "\n",
        "for sp in sps:\n",
        "  delta_f = 1.0/sp.duration\n",
        "  flen = tlen//2+1\n",
        "  psd = aLIGOZeroDetHighPower(flen,delta_f,f_low)\n",
        "  m,i = match(hp,sp,psd=psd,low_frequency_cutoff=f_low)\n",
        "  ms.append(m)"
      ],
      "metadata": {
        "id": "gqV89mwWgbzV"
      },
      "execution_count": null,
      "outputs": []
    },
    {
      "cell_type": "code",
      "source": [
        "print(ms)"
      ],
      "metadata": {
        "id": "qddydY4-i-lA"
      },
      "execution_count": null,
      "outputs": []
    },
    {
      "cell_type": "code",
      "source": [
        "pylab.plot(masses,ms,'o',color='black');\n"
      ],
      "metadata": {
        "id": "N1pNmD-Whz3N"
      },
      "execution_count": null,
      "outputs": []
    },
    {
      "cell_type": "markdown",
      "source": [
        "**2nd Assignment - Detector noise**"
      ],
      "metadata": {
        "id": "hjcA6JN-mNzn"
      }
    },
    {
      "cell_type": "code",
      "source": [
        "#Problem 2\n",
        "#first download the data from the assignament \n",
        "\n",
        "'''\n",
        "Loading the data and converting the data type into time series\n",
        "'''\n",
        "d = np.load('/content/drive/MyDrive/noise_ts_4096Hz.npy') #name of the data file noise_ts_4096Hz.npy\n",
        "dt = d[:, 0]\n",
        "d = types.TimeSeries(d[:, 1], delta_t = dt[1]- dt[0]) #this is to comvert data into GW timeSeries\n",
        "data = d"
      ],
      "metadata": {
        "id": "ewc1VUejImSq"
      },
      "execution_count": 16,
      "outputs": []
    },
    {
      "cell_type": "code",
      "source": [
        "strain=resample_to_delta_t(highpass(data, 15.0), 1.0/2048).crop(4,4)#applying an high pass filter and downsampling\n",
        "stilde=strain.to_frequencyseries()"
      ],
      "metadata": {
        "id": "467mcZThnwYd"
      },
      "execution_count": 17,
      "outputs": []
    },
    {
      "cell_type": "markdown",
      "source": [
        "**Part 1**"
      ],
      "metadata": {
        "id": "nGNrMGaEmXuu"
      }
    },
    {
      "cell_type": "code",
      "source": [
        "#determine noise power spectral density and test weather these is any gw sign (threshold=8)\n",
        "psds = {}\n",
        "\n",
        "delta_t = strain.delta_t #sampling time\n",
        "seg_len = int(2 / delta_t) \n",
        "seg_stride = int(seg_len / 2) #how much overlapping of the segments \n",
        "psds  = pycbc.psd.welch(strain,\n",
        "                      seg_len=seg_len,\n",
        "                      seg_stride=seg_stride)\n",
        "    \n",
        "psds = interpolate(psds, stilde.delta_f)\n",
        "\n",
        "pylab.loglog(psds.sample_frequencies, psds, ) #psds power spectral density \n",
        "pylab.xlim(20, 1024)\n",
        "pylab.ylim(1e-47, 1e-42)\n",
        "pylab.legend()\n"
      ],
      "metadata": {
        "id": "Vr5hepHnFWbK",
        "colab": {
          "base_uri": "https://localhost:8080/",
          "height": 329
        },
        "outputId": "ebf86041-b436-4319-9671-c9783294de7a"
      },
      "execution_count": 18,
      "outputs": [
        {
          "output_type": "stream",
          "name": "stderr",
          "text": [
            "WARNING:matplotlib.legend:No artists with labels found to put in legend.  Note that artists whose label start with an underscore are ignored when legend() is called with no argument.\n"
          ]
        },
        {
          "output_type": "execute_result",
          "data": {
            "text/plain": [
              "<matplotlib.legend.Legend at 0x7f48f287bd90>"
            ]
          },
          "metadata": {},
          "execution_count": 18
        },
        {
          "output_type": "display_data",
          "data": {
            "text/plain": [
              "<Figure size 432x288 with 1 Axes>"
            ],
            "image/png": "[encoded data removed]"
          },
          "metadata": {
            "needs_background": "light"
          }
        }
      ]
    },
    {
      "cell_type": "code",
      "source": [
        "#creating gw waveform \n",
        "\n",
        "mass1 = np.arange(5, 10,0.1 ) #mass range bewteen 5 to 10 Solar mass\n",
        "mass2 = mass1 \n",
        "\n",
        "# Variables to store when we've found the max\n",
        "hmax, smax, tmax, mmax, nsnr = None, {}, {}, 0, 0\n",
        "snrs = []\n",
        " \n",
        "for m in mass1:\n",
        "    #Generate a waveform with a given component mass; assumed equal mass, nonspinning\n",
        "    hp, hc = get_fd_waveform(approximant=\"TaylorF2\",\n",
        "                             mass1=m, mass2=m,\n",
        "                             f_lower=20, delta_f=stilde.delta_f)\n",
        "    hp.resize(len(stilde))\n",
        "   \n",
        "    # Matched filter the data and find the peak \n",
        "    max_snr, max_time = {}, {}\n",
        "    \n",
        "    snr = matched_filter(hp, stilde, psd=psds, low_frequency_cutoff=20.0)\n",
        "    snr_H1 = snr.crop(4 + 4, 4)\n",
        "    \n",
        "    snrs.append(max(abs(snr_H1)))"
      ],
      "metadata": {
        "id": "Cx4ByK8AoECA"
      },
      "execution_count": 43,
      "outputs": []
    },
    {
      "cell_type": "code",
      "source": [
        "pylab.figure(figsize=[10, 4])\n",
        "pylab.plot(mass1, snrs)\n",
        "pylab.legend('True')\n",
        "pylab.ylabel('Signal-to-noise')\n",
        "pylab.xlabel('mass')\n",
        "pylab.show()"
      ],
      "metadata": {
        "id": "AKzBHk9EpPTo",
        "colab": {
          "base_uri": "https://localhost:8080/",
          "height": 279
        },
        "outputId": "8fd87ab3-2835-44a1-f457-c0812ee03a04"
      },
      "execution_count": 44,
      "outputs": [
        {
          "output_type": "display_data",
          "data": {
            "text/plain": [
              "<Figure size 720x288 with 1 Axes>"
            ],
            "image/png": "[encoded data removed]"
          },
          "metadata": {
            "needs_background": "light"
          }
        }
      ]
    },
    {
      "cell_type": "markdown",
      "source": [
        "signal to noise ratio is less than the threshold. Threfore, no detectable signal in the data."
      ],
      "metadata": {
        "id": "L-Rx8MyTrd_g"
      }
    },
    {
      "cell_type": "markdown",
      "source": [
        "**Part 2** "
      ],
      "metadata": {
        "id": "S_nCCh-XrtVA"
      }
    },
    {
      "cell_type": "code",
      "source": [
        "#whitening data \n",
        "white_data = (strain.to_frequencyseries() / psds**0.5).to_timeseries()\n",
        "white_data = white_data.crop(4,4)\n",
        "#histogram of the whitened data\n",
        "hist = pylab.hist(white_data,bins=300,density=True,label='data')\n",
        "\n",
        "#gausiann (data to a normal distribution)\n",
        "limits = (-300, 300)\n",
        "mean,sd = norm.fit(white_data)\n",
        "lns = np.linspace(*limits, 150)\n",
        "gauss = norm.pdf(lns,mean,sd)\n",
        "#plotting --fix the plotting (or the fitting)\n",
        "pylab.plot(lns,gauss,'k',label='gaussian');\n",
        "pylab.xlim(*limits);\n",
        "pylab.legend();\n",
        "pylab.xlabel(\"white background\")\n",
        "pylab.ylabel(\"probability\")\n"
      ],
      "metadata": {
        "id": "5BhLPfcprsdF",
        "colab": {
          "base_uri": "https://localhost:8080/",
          "height": 296
        },
        "outputId": "fe728ed7-197d-44a4-9a0d-00e184b9a12e"
      },
      "execution_count": 48,
      "outputs": [
        {
          "output_type": "execute_result",
          "data": {
            "text/plain": [
              "Text(0, 0.5, 'probability')"
            ]
          },
          "metadata": {},
          "execution_count": 48
        },
        {
          "output_type": "display_data",
          "data": {
            "text/plain": [
              "<Figure size 432x288 with 1 Axes>"
            ],
            "image/png": "[encoded data removed]"
          },
          "metadata": {
            "needs_background": "light"
          }
        }
      ]
    },
    {
      "cell_type": "markdown",
      "source": [
        "if background not stationary ADD!!!"
      ],
      "metadata": {
        "id": "-0zWHydgcgLF"
      }
    },
    {
      "cell_type": "markdown",
      "source": [
        "**Part 3**"
      ],
      "metadata": {
        "id": "InfOQZo4Fohj"
      }
    },
    {
      "cell_type": "code",
      "source": [
        "hp, hc = get_fd_waveform(approximant=\"TaylorF2\", \n",
        "                         mass1=3, mass2=3, \n",
        "                         delta_f=1.0/(200.0),\n",
        "                         distance = 500, \n",
        "                         f_lower=20.0, \n",
        "                         f_final = 2048.0) \n",
        "psds = pycbc.psd.interpolate(pycbc.psd.welch(data),hp.delta_f)\n",
        "snr = (pycbc.filter.sigmasq(hp, psds))**0.5 "
      ],
      "metadata": {
        "id": "ST08qlejoH7U"
      },
      "execution_count": 65,
      "outputs": []
    },
    {
      "cell_type": "code",
      "source": [
        "chunks = 650\n",
        "data_sliced = len(data)/chunks\n",
        "data_sliced = int(data_sliced)\n",
        "\n",
        "snrs = []\n",
        "for i in range(0,chunks):\n",
        "  data_chunk = data[i*data_sliced : (i+1)*data_sliced]\n",
        "  psds = pycbc.psd.interpolate(pycbc.psd.welch(data_chunk),hp.delta_f)\n",
        "  snr = (pycbc.filter.sigmasq(hp, psds))**0.5\n",
        "  snrs.append(snr)"
      ],
      "metadata": {
        "id": "VKagxB_KH8Le"
      },
      "execution_count": 73,
      "outputs": []
    },
    {
      "cell_type": "code",
      "source": [
        "fig, ax = plt.subplots()\n",
        "\n",
        "n, bins, patches = plt.hist(snrs, color = 'blue', density=True, bins = int(100))\n",
        "\n",
        "plt.title('Histogram snr')\n",
        "plt.xlabel('snr')\n",
        "plt.xlim(12,23)\n",
        "plt.ylabel('Probability')\n"
      ],
      "metadata": {
        "colab": {
          "base_uri": "https://localhost:8080/",
          "height": 312
        },
        "id": "Q2ZqWcerIJbK",
        "outputId": "b5e181ac-aa92-4a9a-94ea-cf2cb9f44a7d"
      },
      "execution_count": 74,
      "outputs": [
        {
          "output_type": "execute_result",
          "data": {
            "text/plain": [
              "Text(0, 0.5, 'Probability')"
            ]
          },
          "metadata": {},
          "execution_count": 74
        },
        {
          "output_type": "display_data",
          "data": {
            "text/plain": [
              "<Figure size 432x288 with 1 Axes>"
            ],
            "image/png": "[encoded data removed]"
          },
          "metadata": {
            "needs_background": "light"
          }
        }
      ]
    },
    {
      "cell_type": "markdown",
      "source": [
        "the histogram shows that the background is not statioanry give the \"unstable\" movement of the peaks. Moreover, it shouyld be noticed that most events are grouped together, which allows the assumption of having a constant background noise. "
      ],
      "metadata": {
        "id": "mYu6Q3UXrBDM"
      }
    },
    {
      "cell_type": "markdown",
      "source": [
        "**Assignment 3 - horizon distance of detectors**"
      ],
      "metadata": {
        "id": "jQ96hgrU_Kns"
      }
    },
    {
      "cell_type": "markdown",
      "source": [
        "**Part 1**"
      ],
      "metadata": {
        "id": "7U1iFOv2gfD2"
      }
    },
    {
      "cell_type": "code",
      "source": [
        "flow = 4.0 # set up the lower cut off frequency\n",
        "delta_f = 1.0 / 16\n",
        "flen = int(2048.0/ (delta_f)) + 1\n",
        "psd_ligo = pycbc.psd.aLIGOZeroDetHighPower(flen, delta_f, flow)\n",
        "psd_ligo.data[:int(flow/delta_f)] = np.inf \n",
        "psd_ligo.data[-1] = np.inf"
      ],
      "metadata": {
        "id": "ZIgR9UqM_S50"
      },
      "execution_count": 75,
      "outputs": []
    },
    {
      "cell_type": "code",
      "source": [
        "pylab.loglog(psd_ligo.sample_frequencies, psd_ligo)\n",
        "pylab.title('Model PSD')\n",
        "pylab.legend(['aLIGO'])\n",
        "pylab.xlabel('Frequency (Hz)')\n",
        "pylab.ylabel('PSD((m/s)^2/Hz)')\n",
        "pylab.show()"
      ],
      "metadata": {
        "id": "f7w9UUA6eWmW",
        "outputId": "519e1856-34b4-4866-b0d3-cb0428ab3d5e",
        "colab": {
          "base_uri": "https://localhost:8080/",
          "height": 299
        }
      },
      "execution_count": 76,
      "outputs": [
        {
          "output_type": "display_data",
          "data": {
            "text/plain": [
              "<Figure size 432x288 with 1 Axes>"
            ],
            "image/png": "[encoded data removed]"
          },
          "metadata": {
            "needs_background": "light"
          }
        }
      ]
    },
    {
      "cell_type": "code",
      "source": [
        "#Horizon Distance for aLIGO detector\n",
        "hp, hc = get_fd_waveform(approximant=\"TaylorF2\",\n",
        "                           mass1=5, mass2=5,\n",
        "                           f_lower=flow, \n",
        "                           delta_f=delta_f,\n",
        "                           distance = 1000)\n",
        "snr = (pycbc.filter.sigmasq(hp, psd_ligo))**0.5"
      ],
      "metadata": {
        "id": "1Q_mNMjAfK0W"
      },
      "execution_count": 77,
      "outputs": []
    },
    {
      "cell_type": "code",
      "source": [
        "horz_d = 1000*(snr/8)\n",
        "hp, hc = get_fd_waveform(approximant=\"TaylorF2\",\n",
        "                           mass1=5, mass2=5,\n",
        "                           f_lower=flow, \n",
        "                           delta_f=delta_f,\n",
        "                           distance = horz_d)\n",
        "from pycbc.filter import sigmasq\n",
        "snr = (pycbc.filter.sigmasq(hp, psd_ligo))**0.5\n",
        "print(snr)\n",
        "print(horz_d)"
      ],
      "metadata": {
        "id": "D0W-xjoyfWZA",
        "outputId": "4fe096ad-c4e4-4079-8aa5-5dcc4a92d63f",
        "colab": {
          "base_uri": "https://localhost:8080/"
        }
      },
      "execution_count": 78,
      "outputs": [
        {
          "output_type": "stream",
          "name": "stdout",
          "text": [
            "8.0\n",
            "1279.098426652081\n"
          ]
        }
      ]
    },
    {
      "cell_type": "code",
      "source": [
        "mass1 = np.arange(5,500,5) \n",
        "mass2 = mass1\n",
        "\n",
        "hmax, smax, tmax, mmax, nsnr = None, {}, {}, 0, 0\n",
        "horz_dist = []\n",
        "masses = []\n",
        "dist = 1000 #Mpc\n",
        "len_mass1 = range(len(mass1))\n",
        "for i in len_mass1:\n",
        "    m = mass1[i]\n",
        "    masses.append(m*2)\n",
        "    hp, hc = get_fd_waveform(approximant=\"TaylorF2\",\n",
        "                           mass1=m, mass2=m,\n",
        "                           f_lower=flow, \n",
        "                           delta_f=delta_f,\n",
        "                           distance = dist)\n",
        "\n",
        "    snr = (pycbc.filter.sigmasq(hp, psd_ligo))**0.5\n",
        "    horz_dist.append(dist*(snr/8)/1000) "
      ],
      "metadata": {
        "id": "DEUNemZlfbKN"
      },
      "execution_count": 79,
      "outputs": []
    },
    {
      "cell_type": "code",
      "source": [
        "#plotting Horizon Distance for aLIGO detector\n",
        "pylab.plot(masses ,horz_dist)\n",
        "pylab.legend(['aLIGO'])\n",
        "pylab.title('Horizon Distance for aLIGO detector')\n",
        "pylab.xlabel('Total Mass')\n",
        "pylab.ylabel('Horizon Distance (GPc)')"
      ],
      "metadata": {
        "id": "d7mWo96Bf6pX",
        "outputId": "33509daf-1b9e-4cee-cf7a-5a1c2255f703",
        "colab": {
          "base_uri": "https://localhost:8080/",
          "height": 312
        }
      },
      "execution_count": 80,
      "outputs": [
        {
          "output_type": "execute_result",
          "data": {
            "text/plain": [
              "Text(0, 0.5, 'Horizon Distance (GPc)')"
            ]
          },
          "metadata": {},
          "execution_count": 80
        },
        {
          "output_type": "display_data",
          "data": {
            "text/plain": [
              "<Figure size 432x288 with 1 Axes>"
            ],
            "image/png": "[encoded data removed]"
          },
          "metadata": {
            "needs_background": "light"
          }
        }
      ]
    },
    {
      "cell_type": "markdown",
      "source": [
        "**Part 2**"
      ],
      "metadata": {
        "id": "HOWoaZNKgoWb"
      }
    },
    {
      "cell_type": "markdown",
      "source": [
        "Massive balck holes have a high amplitude and low frequency. Therefore, the power spectral density is affected by being high. Power specral density are related by the formula given in the assignment, which correlates psd which is invesrly proportional to the sqrt of the horizon distance. \n",
        "The peak and decrease afterwards might be because of binary merging systems (which in this case can be two super massive black holes)."
      ],
      "metadata": {
        "id": "r4dlu1Zyr0tR"
      }
    }
  ]
}