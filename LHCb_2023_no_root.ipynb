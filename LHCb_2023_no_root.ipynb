{
  "nbformat": 4,
  "nbformat_minor": 0,
  "metadata": {
    "colab": {
      "provenance": [],
      "mount_file_id": "1aevdmTF7lp1OxHPXgERXkVO1C6BSn3Be",
      "authorship_tag": "ABX9TyPhbZxUicU+qQuXdJlNiy4e"
    },
    "kernelspec": {
      "name": "python3",
      "display_name": "Python 3"
    },
    "language_info": {
      "name": "python"
    }
  },
  "cells": [
    {
      "cell_type": "code",
      "execution_count": 1,
      "metadata": {
        "colab": {
          "base_uri": "https://localhost:8080/"
        },
        "id": "B4WLEoaCYhlx",
        "outputId": "47327c44-1265-4e97-a7d2-68330505cf12"
      },
      "outputs": [
        {
          "output_type": "stream",
          "name": "stdout",
          "text": [
            "Looking in indexes: https://pypi.org/simple, https://us-python.pkg.dev/colab-wheels/public/simple/\n",
            "Collecting uproot\n",
            "  Downloading uproot-5.0.2-py3-none-any.whl (320 kB)\n",
            "\u001b[2K     \u001b[90m━━━━━━━━━━━━━━━━━━━━━━━━━━━━━━━━━━━━━━━\u001b[0m \u001b[32m320.7/320.7 KB\u001b[0m \u001b[31m8.3 MB/s\u001b[0m eta \u001b[36m0:00:00\u001b[0m\n",
            "\u001b[?25hCollecting awkward\n",
            "  Downloading awkward-2.0.7-py3-none-any.whl (568 kB)\n",
            "\u001b[2K     \u001b[90m━━━━━━━━━━━━━━━━━━━━━━━━━━━━━━━━━━━━━━\u001b[0m \u001b[32m569.0/569.0 KB\u001b[0m \u001b[31m22.8 MB/s\u001b[0m eta \u001b[36m0:00:00\u001b[0m\n",
            "\u001b[?25hCollecting lz4\n",
            "  Downloading lz4-4.3.2-cp38-cp38-manylinux_2_17_x86_64.manylinux2014_x86_64.whl (1.3 MB)\n",
            "\u001b[2K     \u001b[90m━━━━━━━━━━━━━━━━━━━━━━━━━━━━━━━━━━━━━━━━\u001b[0m \u001b[32m1.3/1.3 MB\u001b[0m \u001b[31m38.2 MB/s\u001b[0m eta \u001b[36m0:00:00\u001b[0m\n",
            "\u001b[?25hCollecting xxhash\n",
            "  Downloading xxhash-3.2.0-cp38-cp38-manylinux_2_17_x86_64.manylinux2014_x86_64.whl (213 kB)\n",
            "\u001b[2K     \u001b[90m━━━━━━━━━━━━━━━━━━━━━━━━━━━━━━━━━━━━━━\u001b[0m \u001b[32m213.0/213.0 KB\u001b[0m \u001b[31m12.0 MB/s\u001b[0m eta \u001b[36m0:00:00\u001b[0m\n",
            "\u001b[?25hRequirement already satisfied: numpy in /usr/local/lib/python3.8/dist-packages (from uproot) (1.21.6)\n",
            "Requirement already satisfied: packaging in /usr/local/lib/python3.8/dist-packages (from uproot) (23.0)\n",
            "Collecting awkward-cpp==8\n",
            "  Downloading awkward_cpp-8-cp38-cp38-manylinux_2_17_x86_64.manylinux2014_x86_64.whl (1.1 MB)\n",
            "\u001b[2K     \u001b[90m━━━━━━━━━━━━━━━━━━━━━━━━━━━━━━━━━━━━━━━━\u001b[0m \u001b[32m1.1/1.1 MB\u001b[0m \u001b[31m29.9 MB/s\u001b[0m eta \u001b[36m0:00:00\u001b[0m\n",
            "\u001b[?25hRequirement already satisfied: typing-extensions>=4.1.0 in /usr/local/lib/python3.8/dist-packages (from awkward) (4.4.0)\n",
            "Requirement already satisfied: importlib-resources in /usr/local/lib/python3.8/dist-packages (from awkward) (5.10.2)\n",
            "Requirement already satisfied: zipp>=3.1.0 in /usr/local/lib/python3.8/dist-packages (from importlib-resources->awkward) (3.12.1)\n",
            "Installing collected packages: xxhash, lz4, awkward-cpp, awkward, uproot\n",
            "Successfully installed awkward-2.0.7 awkward-cpp-8 lz4-4.3.2 uproot-5.0.2 xxhash-3.2.0\n"
          ]
        }
      ],
      "source": [
        "!pip install uproot awkward lz4 xxhash"
      ]
    },
    {
      "cell_type": "code",
      "source": [
        "import uproot\n",
        "from numpy import *\n",
        "import matplotlib\n",
        "import matplotlib.pyplot as plt\n",
        "\n",
        "f=uproot.open(\"/content/drive/MyDrive/B2HHH_MagnetUp.root\")\n"
      ],
      "metadata": {
        "id": "xetFDuknYwqF"
      },
      "execution_count": 5,
      "outputs": []
    },
    {
      "cell_type": "code",
      "source": [
        "f.keys()"
      ],
      "metadata": {
        "colab": {
          "base_uri": "https://localhost:8080/"
        },
        "id": "CRrg19-gaHtD",
        "outputId": "5d758cf7-61a1-420c-f05e-95d4b838c02e"
      },
      "execution_count": 7,
      "outputs": [
        {
          "output_type": "execute_result",
          "data": {
            "text/plain": [
              "['DecayTree;1']"
            ]
          },
          "metadata": {},
          "execution_count": 7
        }
      ]
    },
    {
      "cell_type": "code",
      "source": [
        "tree=f[\"DecayTree\"].arrays(library=\"np\")"
      ],
      "metadata": {
        "id": "RHoxfg54aPAg"
      },
      "execution_count": 9,
      "outputs": []
    },
    {
      "cell_type": "code",
      "source": [
        "tree.keys()\n"
      ],
      "metadata": {
        "colab": {
          "base_uri": "https://localhost:8080/"
        },
        "id": "c8SmtNEJatlw",
        "outputId": "9df04f98-bd50-46b9-e9d4-f92eafa1b011"
      },
      "execution_count": 15,
      "outputs": [
        {
          "output_type": "execute_result",
          "data": {
            "text/plain": [
              "dict_keys(['B_FlightDistance', 'B_VertexChi2', 'H1_PX', 'H1_PY', 'H1_PZ', 'H1_ProbK', 'H1_ProbPi', 'H1_Charge', 'H1_IPChi2', 'H1_isMuon', 'H2_PX', 'H2_PY', 'H2_PZ', 'H2_ProbK', 'H2_ProbPi', 'H2_Charge', 'H2_IPChi2', 'H2_isMuon', 'H3_PX', 'H3_PY', 'H3_PZ', 'H3_ProbK', 'H3_ProbPi', 'H3_Charge', 'H3_IPChi2', 'H3_isMuon'])"
            ]
          },
          "metadata": {},
          "execution_count": 15
        }
      ]
    },
    {
      "cell_type": "code",
      "source": [
        "#total momentum of three daugheters \n",
        "H1_ptot=sqrt(square(tree[\"H1_PX\"])+square(tree[\"H1_PY\"])+square(tree[\"H1_PZ\"]))\n",
        "H2_ptot= sqrt(square(tree[\"H2_PX\"])+square(tree[\"H2_PY\"])+square(tree[\"H2_PZ\"]))\n",
        "H3_ptot= sqrt(square(tree[\"H3_PX\"])+square(tree[\"H3_PY\"])+square(tree[\"H3_PZ\"]))\n",
        "\n",
        "histName = H1_ptot\n",
        "bins = 300\n",
        "range = (0,300000)\n",
        "\n",
        "plt.hist(histName,bins,range,histtype='step');"
      ],
      "metadata": {
        "colab": {
          "base_uri": "https://localhost:8080/",
          "height": 286
        },
        "id": "NAUidJnObOBO",
        "outputId": "e5c44dbc-2c42-4231-e5c0-1472f1e1702d"
      },
      "execution_count": 44,
      "outputs": [
        {
          "output_type": "display_data",
          "data": {
            "text/plain": [
              "<Figure size 432x288 with 1 Axes>"
            ],
            "image/png": "[encoded data removed]"
          },
          "metadata": {
            "needs_background": "light"
          }
        }
      ]
    },
    {
      "cell_type": "code",
      "source": [
        "#total momentum mother\n",
        "ptot_mother=sqrt((square(tree[\"H1_PX\"]+tree[\"H2_PX\"]+tree[\"H3_PX\"]) + square(tree[\"H1_PY\"]+tree[\"H2_PY\"]+tree[\"H3_PY\"]) + square(tree[\"H1_PZ\"]+tree[\"H2_PZ\"]+tree[\"H3_PZ\"])))\n",
        "\n",
        "histName = ptot_mother\n",
        "bins = 300\n",
        "range = (0,300000)\n",
        "\n",
        "plt.hist(histName,bins,range,histtype='step');\n"
      ],
      "metadata": {
        "colab": {
          "base_uri": "https://localhost:8080/",
          "height": 286
        },
        "id": "UbB2iVM1cpN_",
        "outputId": "62cdd342-7116-45a7-e091-ced632dfdebb"
      },
      "execution_count": 45,
      "outputs": [
        {
          "output_type": "display_data",
          "data": {
            "text/plain": [
              "<Figure size 432x288 with 1 Axes>"
            ],
            "image/png": "[encoded data removed]"
          },
          "metadata": {
            "needs_background": "light"
          }
        }
      ]
    },
    {
      "cell_type": "code",
      "source": [
        "#plot a histogram of the range of masses of the B meson (mass mother)\n",
        "mkaon = 493.677\n",
        "E1 = sqrt(square(H1_ptot)+mkaon**2)\n",
        "E2 = sqrt(square(H2_ptot)+mkaon**2)\n",
        "E3 = sqrt(square(H3_ptot)+mkaon**2)\n",
        "M_mother = sqrt(square(E1+E2+E3)-square(ptot_mother))\n",
        "\n",
        "histName = M_mother\n",
        "bins = 300\n",
        "range = (4000, 7000)\n",
        "\n",
        "plt.hist(histName,bins,range,histtype='step');"
      ],
      "metadata": {
        "colab": {
          "base_uri": "https://localhost:8080/",
          "height": 286
        },
        "id": "6yqHw5nTdvNq",
        "outputId": "36e2db35-e180-435d-c5f8-ed3e35a3327b"
      },
      "execution_count": 47,
      "outputs": [
        {
          "output_type": "display_data",
          "data": {
            "text/plain": [
              "<Figure size 432x288 with 1 Axes>"
            ],
            "image/png": "[encoded data removed]"
          },
          "metadata": {
            "needs_background": "light"
          }
        }
      ]
    },
    {
      "cell_type": "code",
      "source": [
        "#probability Kaon\n",
        "bins = 300\n",
        "range = (0,1)\n",
        "\n",
        "plt.hist(histName,bins,range,histtype='step');\n",
        "plt.hist(tree[\"H1_ProbK\"],bins,range,histtype='step');\n",
        "plt.hist(tree[\"H2_ProbK\"],bins,range,histtype='step');\n",
        "plt.hist(tree[\"H3_ProbK\"],bins,range,histtype='step');"
      ],
      "metadata": {
        "colab": {
          "base_uri": "https://localhost:8080/",
          "height": 288
        },
        "id": "wBRZjLQMfjRv",
        "outputId": "a12fbf1b-4491-4562-823e-18933bb9a857"
      },
      "execution_count": 48,
      "outputs": [
        {
          "output_type": "display_data",
          "data": {
            "text/plain": [
              "<Figure size 432x288 with 1 Axes>"
            ],
            "image/png": "[encoded data removed]"
          },
          "metadata": {
            "needs_background": "light"
          }
        }
      ]
    },
    {
      "cell_type": "code",
      "source": [
        "#probability Pion\n",
        "bins = 300\n",
        "range = (0,1)\n",
        "\n",
        "plt.hist(tree[\"H1_ProbPi\"],bins,range,histtype='step');\n",
        "plt.hist(tree[\"H2_ProbPi\"],bins,range,histtype='step');\n",
        "plt.hist(tree[\"H3_ProbPi\"],bins,range,histtype='step');"
      ],
      "metadata": {
        "colab": {
          "base_uri": "https://localhost:8080/",
          "height": 286
        },
        "id": "ohISQTAwgFKm",
        "outputId": "61ab9b11-2e37-4c34-b10d-2a114b98eb83"
      },
      "execution_count": 49,
      "outputs": [
        {
          "output_type": "display_data",
          "data": {
            "text/plain": [
              "<Figure size 432x288 with 1 Axes>"
            ],
            "image/png": "[encoded data removed]"
          },
          "metadata": {
            "needs_background": "light"
          }
        }
      ]
    },
    {
      "cell_type": "code",
      "source": [
        "#plot of the B_VertexChi2\n",
        "bins = 300\n",
        "range = (0,15)\n",
        "\n",
        "plt.hist(tree[\"B_VertexChi2\"],bins,range,histtype='step');\n"
      ],
      "metadata": {
        "colab": {
          "base_uri": "https://localhost:8080/",
          "height": 288
        },
        "id": "3HiRpCiIggGp",
        "outputId": "93db7d1f-8c9e-4cb1-b138-6ad76e2fbd6c"
      },
      "execution_count": 50,
      "outputs": [
        {
          "output_type": "display_data",
          "data": {
            "text/plain": [
              "<Figure size 432x288 with 1 Axes>"
            ],
            "image/png": "[encoded data removed]"
          },
          "metadata": {
            "needs_background": "light"
          }
        }
      ]
    },
    {
      "cell_type": "code",
      "source": [
        "#selecting probability Kaon (since the mass we've been working so far is from Kaon), low prob of being a Pion\n",
        "selection=(\"(H1_ProbK>0.5)&(H2_ProbK>0.5)&(H3_ProbK>0.5)&(H1_isMuon==0)&(H2_isMuon==0)&(H3_isMuon==0)&(H1_ProbPi<0.3)&(H2_ProbPi<0.3)&(H1_ProbPi<0.3)\")\n",
        "cuttree=f[\"DecayTree\"].arrays(library=\"np\",cut=selection)"
      ],
      "metadata": {
        "id": "HaNbNZWEgygQ"
      },
      "execution_count": 38,
      "outputs": []
    },
    {
      "cell_type": "code",
      "source": [
        "#post-cuts\n",
        "H1_ptot_post=sqrt(square(cuttree[\"H1_PX\"])+square(cuttree[\"H1_PY\"])+square(cuttree[\"H1_PZ\"]))\n",
        "H2_ptot_post= sqrt(square(cuttree[\"H2_PX\"])+square(cuttree[\"H2_PY\"])+square(cuttree[\"H2_PZ\"]))\n",
        "H3_ptot_post= sqrt(square(cuttree[\"H3_PX\"])+square(cuttree[\"H3_PY\"])+square(cuttree[\"H3_PZ\"]))\n",
        "\n",
        "E1_post=sqrt(square(H1_ptot_post)+mkaon**2)\n",
        "E2_post=sqrt(square(H2_ptot_post)+mkaon**2)\n",
        "E3_post=sqrt(square(H3_ptot_post)+mkaon**2)\n",
        "ptot_mother_post= sqrt((square(cuttree[\"H1_PX\"]+cuttree[\"H2_PX\"]+cuttree[\"H3_PX\"]) + square(cuttree[\"H1_PY\"]+cuttree[\"H2_PY\"]+cuttree[\"H3_PY\"]) + square(cuttree[\"H1_PZ\"]+cuttree[\"H2_PZ\"]+cuttree[\"H3_PZ\"])))\n",
        "M_mother_post=sqrt(square(E1_post+E2_post+E3_post)-square(ptot_mother_post))\n",
        "\n",
        "#plotting pre-cuts and post-cuts\n",
        "bins = 300\n",
        "range = (3000,7000)\n",
        "plt.hist(M_mother,bins,range,histtype='step'); #mother pre_cut was kept as M_mother \n",
        "plt.hist(M_mother_post,bins,range,histtype='step');\n"
      ],
      "metadata": {
        "colab": {
          "base_uri": "https://localhost:8080/",
          "height": 286
        },
        "id": "59NXP6SdhyKJ",
        "outputId": "fc8d4abe-a387-4c49-a8ca-f94ffbcc80fc"
      },
      "execution_count": 52,
      "outputs": [
        {
          "output_type": "display_data",
          "data": {
            "text/plain": [
              "<Figure size 432x288 with 1 Axes>"
            ],
            "image/png": "[encoded data removed]"
          },
          "metadata": {
            "needs_background": "light"
          }
        }
      ]
    }
  ]
}